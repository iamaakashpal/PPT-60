{
 "cells": [
  {
   "cell_type": "markdown",
   "metadata": {},
   "source": [
    "<aside>\n",
    "\n",
    "**Question 1**\n",
    "\n",
    "Given a singly linked list, delete **middle** of the linked list. For example, if given linked list is 1->2->**3**->4->5 then linked list should be modified to 1->2->4->5.If there are **even** nodes, then there would be **two middle** nodes, we need to delete the second middle element. For example, if given linked list is 1->2->3->4->5->6 then it should be modified to 1->2->3->5->6.If the input linked list is NULL or has 1 node, then it should return NULL\n",
    "\n",
    "**Example 1:**\n",
    "\n",
    "```\n",
    "Input:\n",
    "LinkedList: 1->2->3->4->5\n",
    "Output:1 2 4 5\n",
    "\n",
    "```\n",
    "\n",
    "**Example 2:**\n",
    "\n",
    "```\n",
    "Input:\n",
    "LinkedList: 2->4->6->7->5->1\n",
    "Output:2 4 6 5 1\n",
    "```\n",
    "\n",
    "</aside>"
   ]
  },
  {
   "cell_type": "code",
   "execution_count": 1,
   "metadata": {},
   "outputs": [],
   "source": [
    "class Node:\n",
    "    def __init__(self, data=None):\n",
    "        self.data = data\n",
    "        self.next = None\n",
    "\n",
    "\n",
    "def delete_middle(head):\n",
    "    if head is None or head.next is None:\n",
    "        return None\n",
    "\n",
    "    slow_ptr = head\n",
    "    fast_ptr = head\n",
    "    prev_ptr = None\n",
    "\n",
    "    while fast_ptr is not None and fast_ptr.next is not None:\n",
    "        fast_ptr = fast_ptr.next.next\n",
    "        prev_ptr = slow_ptr\n",
    "        slow_ptr = slow_ptr.next\n",
    "\n",
    "    prev_ptr.next = slow_ptr.next\n",
    "\n",
    "    return head\n",
    "\n",
    "\n",
    "def print_linked_list(head):\n",
    "    current = head\n",
    "    while current is not None:\n",
    "        print(current.data, end=\" \")\n",
    "        current = current.next\n",
    "    print()"
   ]
  },
  {
   "cell_type": "code",
   "execution_count": 2,
   "metadata": {},
   "outputs": [
    {
     "name": "stdout",
     "output_type": "stream",
     "text": [
      "Input: \n",
      "2 4 6 7 5 1 \n",
      "Output: \n",
      "2 4 6 5 1 \n"
     ]
    }
   ],
   "source": [
    "head = Node(2)\n",
    "head.next = Node(4)\n",
    "head.next.next = Node(6)\n",
    "head.next.next.next = Node(7)\n",
    "head.next.next.next.next = Node(5)\n",
    "head.next.next.next.next.next = Node(1)\n",
    "print(\"Input: \")\n",
    "print_linked_list(head)\n",
    "\n",
    "head = delete_middle(head)\n",
    "\n",
    "print(\"Output: \")\n",
    "print_linked_list(head)"
   ]
  },
  {
   "cell_type": "code",
   "execution_count": 3,
   "metadata": {},
   "outputs": [
    {
     "name": "stdout",
     "output_type": "stream",
     "text": [
      "Input: \n",
      "1 2 3 4 5 \n",
      "Output: \n",
      "1 2 4 5 \n"
     ]
    }
   ],
   "source": [
    "head = Node(1)\n",
    "head.next = Node(2)\n",
    "head.next.next = Node(3)\n",
    "head.next.next.next = Node(4)\n",
    "head.next.next.next.next = Node(5)\n",
    "print(\"Input: \")\n",
    "print_linked_list(head)\n",
    "\n",
    "head = delete_middle(head)\n",
    "\n",
    "print(\"Output: \")\n",
    "print_linked_list(head)"
   ]
  },
  {
   "cell_type": "markdown",
   "metadata": {},
   "source": [
    "<aside>\n",
    "\n",
    "**Question 2**\n",
    "\n",
    "Given a linked list of **N** nodes. The task is to check if the linked list has a loop. Linked list can contain self loop.\n",
    "\n",
    "**Example 1:**\n",
    "\n",
    "```\n",
    "Input:\n",
    "N = 3\n",
    "value[] = {1,3,4}\n",
    "x(position at which tail is connected) = 2\n",
    "Output:True\n",
    "Explanation:In above test case N = 3.\n",
    "The linked list with nodes N = 3 is\n",
    "given. Then value of x=2 is given which\n",
    "means last node is connected with xth\n",
    "node of linked list. Therefore, there\n",
    "exists a loop.\n",
    "```\n",
    "\n",
    "**Example 2:**\n",
    "\n",
    "```\n",
    "Input:\n",
    "N = 4\n",
    "value[] = {1,8,3,4}\n",
    "x = 0\n",
    "Output:False\n",
    "Explanation:For N = 4 ,x = 0 means\n",
    "then lastNode->next = NULL, then\n",
    "the Linked list does not contains\n",
    "any loop.\n",
    "```\n",
    "\n",
    "</aside>"
   ]
  },
  {
   "cell_type": "code",
   "execution_count": 4,
   "metadata": {},
   "outputs": [],
   "source": [
    "class Node:\n",
    "    def __init__(self, data):\n",
    "        self.data = data\n",
    "        self.next = None\n",
    "\n",
    "def has_loop(head):\n",
    "    if head is None or head.next is None:\n",
    "        return False\n",
    "    \n",
    "    slow = head\n",
    "    fast = head.next\n",
    "    \n",
    "    while fast and fast.next:\n",
    "        if slow == fast:\n",
    "            return True\n",
    "        slow = slow.next\n",
    "        fast = fast.next.next\n",
    "    \n",
    "    return False"
   ]
  },
  {
   "cell_type": "code",
   "execution_count": 5,
   "metadata": {},
   "outputs": [
    {
     "name": "stdout",
     "output_type": "stream",
     "text": [
      "True\n"
     ]
    }
   ],
   "source": [
    "head = Node(1)\n",
    "node2 = Node(3)\n",
    "node3 = Node(4)\n",
    "\n",
    "head.next = node2\n",
    "node2.next = node3\n",
    "node3.next = node2\n",
    "\n",
    "has_loop_result = has_loop(head)\n",
    "print(has_loop_result)"
   ]
  },
  {
   "cell_type": "code",
   "execution_count": 6,
   "metadata": {},
   "outputs": [
    {
     "name": "stdout",
     "output_type": "stream",
     "text": [
      "False\n"
     ]
    }
   ],
   "source": [
    "head = Node(1)\n",
    "node2 = Node(8)\n",
    "node3 = Node(3)\n",
    "node4 = Node(4)\n",
    "\n",
    "head.next = node2\n",
    "node2.next = node3\n",
    "node3.next = node4\n",
    "\n",
    "has_loop_result = has_loop(head)\n",
    "print(has_loop_result)"
   ]
  },
  {
   "cell_type": "markdown",
   "metadata": {},
   "source": [
    "<aside>\n",
    "\n",
    "**Question 3**\n",
    "\n",
    "Given a linked list consisting of **L** nodes and given a number **N**. The task is to find the **N**th node from the end of the linked list.\n",
    "\n",
    "**Example 1:**\n",
    "\n",
    "```\n",
    "Input:\n",
    "N = 2\n",
    "LinkedList: 1->2->3->4->5->6->7->8->9\n",
    "Output:8\n",
    "Explanation:In the first example, there\n",
    "are 9 nodes in linked list and we need\n",
    "to find 2nd node from end. 2nd node\n",
    "from end is 8.\n",
    "\n",
    "```\n",
    "\n",
    "**Example 2:**\n",
    "\n",
    "```\n",
    "Input:\n",
    "N = 5\n",
    "LinkedList: 10->5->100->5\n",
    "Output:-1\n",
    "Explanation:In the second example, there\n",
    "are 4 nodes in the linked list and we\n",
    "need to find 5th from the end. Since 'n'\n",
    "is more than the number of nodes in the\n",
    "linked list, the output is -1.\n",
    "```\n",
    "\n",
    "</aside>"
   ]
  },
  {
   "cell_type": "code",
   "execution_count": 7,
   "metadata": {},
   "outputs": [],
   "source": [
    "class Node:\n",
    "    def __init__(self, data):\n",
    "        self.data = data\n",
    "        self.next = None\n",
    "\n",
    "def get_nth_from_end(head, n):\n",
    "    if head is None:\n",
    "        return -1\n",
    "    \n",
    "    first = head\n",
    "    second = head\n",
    "    \n",
    "    for _ in range(n):\n",
    "        if second is None:\n",
    "            return -1\n",
    "        second = second.next\n",
    "    \n",
    "    while second:\n",
    "        first = first.next\n",
    "        second = second.next\n",
    "    return first.data"
   ]
  },
  {
   "cell_type": "code",
   "execution_count": 8,
   "metadata": {},
   "outputs": [
    {
     "name": "stdout",
     "output_type": "stream",
     "text": [
      "8\n"
     ]
    }
   ],
   "source": [
    "head = Node(1)\n",
    "node2 = Node(2)\n",
    "node3 = Node(3)\n",
    "node4 = Node(4)\n",
    "node5 = Node(5)\n",
    "node6 = Node(6)\n",
    "node7 = Node(7)\n",
    "node8 = Node(8)\n",
    "node9 = Node(9)\n",
    "\n",
    "head.next = node2\n",
    "node2.next = node3\n",
    "node3.next = node4\n",
    "node4.next = node5\n",
    "node5.next = node6\n",
    "node6.next = node7\n",
    "node7.next = node8\n",
    "node8.next = node9\n",
    "\n",
    "n = 2\n",
    "nth_from_end = get_nth_from_end(head, n)\n",
    "print(nth_from_end)"
   ]
  },
  {
   "cell_type": "code",
   "execution_count": 9,
   "metadata": {},
   "outputs": [
    {
     "name": "stdout",
     "output_type": "stream",
     "text": [
      "-1\n"
     ]
    }
   ],
   "source": [
    "head = Node(10)\n",
    "node2 = Node(5)\n",
    "node3 = Node(100)\n",
    "node4 = Node(5)\n",
    "\n",
    "head.next = node2\n",
    "node2.next = node3\n",
    "node3.next = node4\n",
    "\n",
    "n = 5\n",
    "nth_from_end = get_nth_from_end(head, n)\n",
    "print(nth_from_end)"
   ]
  },
  {
   "cell_type": "markdown",
   "metadata": {},
   "source": [
    "<aside>\n",
    "\n",
    " **Question 4**\n",
    "\n",
    "Given a singly linked list of characters, write a function that returns true if the given list is a palindrome, else false.\n",
    "\n",
    "!https://media.geeksforgeeks.org/wp-content/uploads/20220816144425/LLdrawio.png\n",
    "\n",
    "**Examples:**\n",
    "\n",
    "> Input: R->A->D->A->R->NULL\n",
    "> \n",
    "> \n",
    "> **Output:** Yes\n",
    "> \n",
    "> **Input:** C->O->D->E->NULL\n",
    "> \n",
    "> **Output:** No\n",
    "> \n",
    "</aside>"
   ]
  },
  {
   "cell_type": "code",
   "execution_count": 10,
   "metadata": {},
   "outputs": [],
   "source": [
    "class Node:\n",
    "    def __init__(self, data):\n",
    "        self.data = data\n",
    "        self.next = None\n",
    "\n",
    "def is_palindrome(head):\n",
    "    if head is None or head.next is None:\n",
    "        return True\n",
    "\n",
    "    characters = []\n",
    "    current = head\n",
    "    while current:\n",
    "        characters.append(current.data)\n",
    "        current = current.next\n",
    "\n",
    "    start = 0\n",
    "    end = len(characters) - 1\n",
    "    while start < end:\n",
    "        if characters[start] != characters[end]:\n",
    "            return False\n",
    "        start += 1\n",
    "        end -= 1\n",
    "\n",
    "    return True"
   ]
  },
  {
   "cell_type": "code",
   "execution_count": 11,
   "metadata": {},
   "outputs": [
    {
     "name": "stdout",
     "output_type": "stream",
     "text": [
      "True\n"
     ]
    }
   ],
   "source": [
    "head = Node('R')\n",
    "node2 = Node('A')\n",
    "node3 = Node('D')\n",
    "node4 = Node('A')\n",
    "node5 = Node('R')\n",
    "\n",
    "head.next = node2\n",
    "node2.next = node3\n",
    "node3.next = node4\n",
    "node4.next = node5\n",
    "\n",
    "is_palindrome_result = is_palindrome(head)\n",
    "print(is_palindrome_result)"
   ]
  },
  {
   "cell_type": "code",
   "execution_count": 12,
   "metadata": {},
   "outputs": [
    {
     "name": "stdout",
     "output_type": "stream",
     "text": [
      "False\n"
     ]
    }
   ],
   "source": [
    "head = Node('C')\n",
    "node2 = Node('O')\n",
    "node3 = Node('D')\n",
    "node4 = Node('E')\n",
    "\n",
    "head.next = node2\n",
    "node2.next = node3\n",
    "node3.next = node4\n",
    "\n",
    "is_palindrome_result = is_palindrome(head)\n",
    "print(is_palindrome_result)"
   ]
  },
  {
   "cell_type": "markdown",
   "metadata": {},
   "source": [
    "<aside>\n",
    "\n",
    "**Question 5**\n",
    "\n",
    "Given a linked list of **N** nodes such that it may contain a loop.\n",
    "\n",
    "A loop here means that the last node of the link list is connected to the node at position X(1-based index). If the link list does not have any loop, X=0.\n",
    "\n",
    "Remove the loop from the linked list, if it is present, i.e. unlink the last node which is forming the loop.\n",
    "\n",
    "**Example 1:**\n",
    "\n",
    "```\n",
    "Input:\n",
    "N = 3\n",
    "value[] = {1,3,4}\n",
    "X = 2\n",
    "Output:1\n",
    "Explanation:The link list looks like\n",
    "1 -> 3 -> 4\n",
    "     ^    |\n",
    "     |____|\n",
    "A loop is present. If you remove it\n",
    "successfully, the answer will be 1.\n",
    "\n",
    "```\n",
    "\n",
    "**Example 2:**\n",
    "\n",
    "```\n",
    "Input:\n",
    "N = 4\n",
    "value[] = {1,8,3,4}\n",
    "X = 0\n",
    "Output:1\n",
    "Explanation:The Linked list does not\n",
    "contains any loop.\n",
    "```\n",
    "\n",
    "**Example 3:**\n",
    "\n",
    "```\n",
    "Input:\n",
    "N = 4\n",
    "value[] = {1,2,3,4}\n",
    "X = 1\n",
    "Output:1\n",
    "Explanation:The link list looks like\n",
    "1 -> 2 -> 3 -> 4\n",
    "^              |\n",
    "|______________|\n",
    "A loop is present.\n",
    "If you remove it successfully,\n",
    "the answer will be 1.\n",
    "```\n",
    "\n",
    "</aside>"
   ]
  },
  {
   "cell_type": "code",
   "execution_count": 13,
   "metadata": {},
   "outputs": [],
   "source": [
    "class Node:\n",
    "    def __init__(self, data):\n",
    "        self.data = data\n",
    "        self.next = None\n",
    "\n",
    "def detect_and_remove_loop(head):\n",
    "    if head is None or head.next is None:\n",
    "        return\n",
    "\n",
    "    slow = head\n",
    "    fast = head\n",
    "\n",
    "    while fast and fast.next:\n",
    "        slow = slow.next\n",
    "        fast = fast.next.next\n",
    "        if slow == fast:\n",
    "            break\n",
    "\n",
    "    if slow != fast:\n",
    "        return\n",
    "\n",
    "    slow = head\n",
    "    while slow.next != fast.next:\n",
    "        slow = slow.next\n",
    "        fast = fast.next\n",
    "\n",
    "    fast.next = None\n",
    "\n",
    "    return head"
   ]
  },
  {
   "cell_type": "code",
   "execution_count": 14,
   "metadata": {},
   "outputs": [
    {
     "name": "stdout",
     "output_type": "stream",
     "text": [
      "1 3 4 "
     ]
    }
   ],
   "source": [
    "head = Node(1)\n",
    "node2 = Node(3)\n",
    "node3 = Node(4)\n",
    "\n",
    "head.next = node2\n",
    "node2.next = node3\n",
    "node3.next = node2\n",
    "\n",
    "head = detect_and_remove_loop(head)\n",
    "\n",
    "current = head\n",
    "while current:\n",
    "    print(current.data, end=' ')\n",
    "    current = current.next"
   ]
  },
  {
   "cell_type": "code",
   "execution_count": 15,
   "metadata": {},
   "outputs": [
    {
     "name": "stdout",
     "output_type": "stream",
     "text": [
      "1 2 3 4 "
     ]
    }
   ],
   "source": [
    "head = Node(1)\n",
    "node2 = Node(2)\n",
    "node3 = Node(3)\n",
    "node4 = Node(4)\n",
    "\n",
    "head.next = node2\n",
    "node2.next = node3\n",
    "node3.next = node4\n",
    "node4.next = node2\n",
    "\n",
    "head = detect_and_remove_loop(head)\n",
    "\n",
    "current = head\n",
    "while current:\n",
    "    print(current.data, end=' ')\n",
    "    current = current.next"
   ]
  },
  {
   "cell_type": "markdown",
   "metadata": {},
   "source": [
    "<aside>\n",
    "\n",
    "**Question 6**\n",
    "\n",
    "Given a linked list and two integers M and N. Traverse the linked list such that you retain M nodes then delete next N nodes, continue the same till end of the linked list.\n",
    "\n",
    "Difficulty Level: Rookie\n",
    "\n",
    "**Examples**:\n",
    "\n",
    "```\n",
    "Input:\n",
    "M = 2, N = 2\n",
    "Linked List: 1->2->3->4->5->6->7->8\n",
    "Output:\n",
    "Linked List: 1->2->5->6\n",
    "\n",
    "Input:\n",
    "M = 3, N = 2\n",
    "Linked List: 1->2->3->4->5->6->7->8->9->10\n",
    "Output:\n",
    "Linked List: 1->2->3->6->7->8\n",
    "\n",
    "Input:\n",
    "M = 1, N = 1\n",
    "Linked List: 1->2->3->4->5->6->7->8->9->10\n",
    "Output:\n",
    "Linked List: 1->3->5->7->9\n",
    "```\n",
    "\n",
    "</aside>"
   ]
  },
  {
   "cell_type": "code",
   "execution_count": 16,
   "metadata": {},
   "outputs": [],
   "source": [
    "class Node:\n",
    "    def __init__(self, data):\n",
    "        self.data = data\n",
    "        self.next = None\n",
    "\n",
    "def skip_and_delete(head, M, N):\n",
    "    if not head:\n",
    "        return head\n",
    "\n",
    "    current = head\n",
    "    count = 1\n",
    "\n",
    "    while current:\n",
    "        if count < M:\n",
    "            current = current.next\n",
    "            count += 1\n",
    "        else:\n",
    "            temp = current\n",
    "            for _ in range(N):\n",
    "                if temp.next:\n",
    "                    temp = temp.next\n",
    "                else:\n",
    "                    break\n",
    "            current.next = temp.next\n",
    "            current = current.next\n",
    "            count = 1\n",
    "\n",
    "    return head\n",
    "\n",
    "def print_linked_list(head):\n",
    "    current = head\n",
    "    while current:\n",
    "        print(current.data, end=\" \")\n",
    "        current = current.next\n",
    "    print()"
   ]
  },
  {
   "cell_type": "code",
   "execution_count": 17,
   "metadata": {},
   "outputs": [
    {
     "name": "stdout",
     "output_type": "stream",
     "text": [
      "1 2 5 6 \n"
     ]
    }
   ],
   "source": [
    "head = Node(1)\n",
    "node2 = Node(2)\n",
    "node3 = Node(3)\n",
    "node4 = Node(4)\n",
    "node5 = Node(5)\n",
    "node6 = Node(6)\n",
    "node7 = Node(7)\n",
    "node8 = Node(8)\n",
    "\n",
    "head.next = node2\n",
    "node2.next = node3\n",
    "node3.next = node4\n",
    "node4.next = node5\n",
    "node5.next = node6\n",
    "node6.next = node7\n",
    "node7.next = node8\n",
    "\n",
    "M = 2\n",
    "N = 2\n",
    "\n",
    "head = skip_and_delete(head, M, N)\n",
    "print_linked_list(head)"
   ]
  },
  {
   "cell_type": "code",
   "execution_count": 18,
   "metadata": {},
   "outputs": [
    {
     "name": "stdout",
     "output_type": "stream",
     "text": [
      "1 2 3 6 7 8 \n"
     ]
    }
   ],
   "source": [
    "head = Node(1)\n",
    "node2 = Node(2)\n",
    "node3 = Node(3)\n",
    "node4 = Node(4)\n",
    "node5 = Node(5)\n",
    "node6 = Node(6)\n",
    "node7 = Node(7)\n",
    "node8 = Node(8)\n",
    "node9 = Node(9)\n",
    "node10 = Node(10)\n",
    "\n",
    "head.next = node2\n",
    "node2.next = node3\n",
    "node3.next = node4\n",
    "node4.next = node5\n",
    "node5.next = node6\n",
    "node6.next = node7\n",
    "node7.next = node8\n",
    "node8.next = node9\n",
    "node9.next = node10\n",
    "\n",
    "M = 3\n",
    "N = 2\n",
    "\n",
    "head = skip_and_delete(head, M, N)\n",
    "print_linked_list(head)"
   ]
  },
  {
   "cell_type": "code",
   "execution_count": 19,
   "metadata": {},
   "outputs": [
    {
     "name": "stdout",
     "output_type": "stream",
     "text": [
      "1 3 5 7 9 \n"
     ]
    }
   ],
   "source": [
    "head = Node(1)\n",
    "node2 = Node(2)\n",
    "node3 = Node(3)\n",
    "node4 = Node(4)\n",
    "node5 = Node(5)\n",
    "node6 = Node(6)\n",
    "node7 = Node(7)\n",
    "node8 = Node(8)\n",
    "node9 = Node(9)\n",
    "node10 = Node(10)\n",
    "\n",
    "head.next = node2\n",
    "node2.next = node3\n",
    "node3.next = node4\n",
    "node4.next = node5\n",
    "node5.next = node6\n",
    "node6.next = node7\n",
    "node7.next = node8\n",
    "node8.next = node9\n",
    "node9.next = node10\n",
    "\n",
    "M = 1\n",
    "N = 1\n",
    "\n",
    "head = skip_and_delete(head, M, N)\n",
    "print_linked_list(head)"
   ]
  },
  {
   "cell_type": "markdown",
   "metadata": {},
   "source": [
    "<aside>\n",
    "\n",
    "**Question 7**\n",
    "\n",
    "Given two linked lists, insert nodes of second list into first list at alternate positions of first list.\n",
    "For example, if first list is 5->7->17->13->11 and second is 12->10->2->4->6, the first list should become 5->12->7->10->17->2->13->4->11->6 and second list should become empty. The nodes of second list should only be inserted when there are positions available. For example, if the first list is 1->2->3 and second list is 4->5->6->7->8, then first list should become 1->4->2->5->3->6 and second list to 7->8.\n",
    "\n",
    "Use of extra space is not allowed (Not allowed to create additional nodes), i.e., insertion must be done in-place. Expected time complexity is O(n) where n is number of nodes in first list.\n",
    "\n",
    "</aside>"
   ]
  },
  {
   "cell_type": "code",
   "execution_count": 20,
   "metadata": {},
   "outputs": [
    {
     "name": "stdout",
     "output_type": "stream",
     "text": [
      "5 12 7 10 17 2 13 4 11 6 \n",
      "\n"
     ]
    }
   ],
   "source": [
    "class Node:\n",
    "    def __init__(self, data):\n",
    "        self.data = data\n",
    "        self.next = None\n",
    "\n",
    "def merge_alternate(head1, head2):\n",
    "    if not head1:\n",
    "        return head2\n",
    "    if not head2:\n",
    "        return head1\n",
    "\n",
    "    current1 = head1\n",
    "    current2 = head2\n",
    "\n",
    "    while current1 and current2:\n",
    "        temp1 = current1.next\n",
    "        temp2 = current2.next\n",
    "\n",
    "        current1.next = current2\n",
    "        current2.next = temp1\n",
    "\n",
    "        current1 = temp1\n",
    "        current2 = temp2\n",
    "\n",
    "    return head1\n",
    "\n",
    "def print_linked_list(head):\n",
    "    current = head\n",
    "    while current:\n",
    "        print(current.data, end=\" \")\n",
    "        current = current.next\n",
    "    print()\n",
    "\n",
    "# Create the first linked list\n",
    "head1 = Node(5)\n",
    "node1_2 = Node(7)\n",
    "node1_3 = Node(17)\n",
    "node1_4 = Node(13)\n",
    "node1_5 = Node(11)\n",
    "\n",
    "head1.next = node1_2\n",
    "node1_2.next = node1_3\n",
    "node1_3.next = node1_4\n",
    "node1_4.next = node1_5\n",
    "\n",
    "# Create the second linked list\n",
    "head2 = Node(12)\n",
    "node2_2 = Node(10)\n",
    "node2_3 = Node(2)\n",
    "node2_4 = Node(4)\n",
    "node2_5 = Node(6)\n",
    "\n",
    "head2.next = node2_2\n",
    "node2_2.next = node2_3\n",
    "node2_3.next = node2_4\n",
    "node2_4.next = node2_5\n",
    "\n",
    "head1 = merge_alternate(head1, head2)\n",
    "head2 = None\n",
    "print_linked_list(head1)\n",
    "\n",
    "print_linked_list(head2)"
   ]
  },
  {
   "cell_type": "markdown",
   "metadata": {},
   "source": [
    "<aside>\n",
    "\n",
    "**Question 8**\n",
    "\n",
    "Given a singly linked list, find if the linked list is [circular](https://www.geeksforgeeks.org/circular-linked-list/amp/) or not.\n",
    "\n",
    "> A linked list is called circular if it is not NULL-terminated and all nodes are connected in the form of a cycle. Below is an example of a circular linked list.\n",
    "> \n",
    "</aside>"
   ]
  },
  {
   "cell_type": "code",
   "execution_count": 21,
   "metadata": {},
   "outputs": [
    {
     "name": "stdout",
     "output_type": "stream",
     "text": [
      "The linked list is circular.\n"
     ]
    }
   ],
   "source": [
    "class Node:\n",
    "    def __init__(self, data):\n",
    "        self.data = data\n",
    "        self.next = None\n",
    "\n",
    "def is_circular(head):\n",
    "    if not head:\n",
    "        return False\n",
    "\n",
    "    slow = head\n",
    "    fast = head.next\n",
    "\n",
    "    while fast and fast.next:\n",
    "        if slow == fast:\n",
    "            return True\n",
    "        slow = slow.next\n",
    "        fast = fast.next.next\n",
    "\n",
    "    return False\n",
    "\n",
    "head = Node(10)\n",
    "node2 = Node(12)\n",
    "node3 = Node(14)\n",
    "node4 = Node(16)\n",
    "\n",
    "head.next = node2\n",
    "node2.next = node3\n",
    "node3.next = node4\n",
    "node4.next = head\n",
    "\n",
    "circular = is_circular(head)\n",
    "\n",
    "if circular:\n",
    "    print(\"The linked list is circular.\")\n",
    "else:\n",
    "    print(\"The linked list is not circular.\")"
   ]
  }
 ],
 "metadata": {
  "kernelspec": {
   "display_name": "Python 3.10.7 64-bit",
   "language": "python",
   "name": "python3"
  },
  "language_info": {
   "codemirror_mode": {
    "name": "ipython",
    "version": 3
   },
   "file_extension": ".py",
   "mimetype": "text/x-python",
   "name": "python",
   "nbconvert_exporter": "python",
   "pygments_lexer": "ipython3",
   "version": "3.10.7"
  },
  "orig_nbformat": 4,
  "vscode": {
   "interpreter": {
    "hash": "3196968d684371006099b3d55edeef8ed90365227a30deaef86e5d4aa8519be0"
   }
  }
 },
 "nbformat": 4,
 "nbformat_minor": 2
}
