{
 "cells": [
  {
   "cell_type": "markdown",
   "metadata": {},
   "source": [
    "<aside>\n",
    "\n",
    "Question-1\n",
    "\n",
    "Given a binary tree, your task is to find subtree with maximum sum in tree.\n",
    "\n",
    "Examples:\n",
    "\n",
    "Input1 :       \n",
    "\n",
    "       1\n",
    "\n",
    "     /   \\\n",
    "\n",
    "   2      3\n",
    "\n",
    "  / \\    / \\\n",
    "\n",
    "4   5  6   7\n",
    "\n",
    "Output1 : 28\n",
    "\n",
    "As all the tree elements are positive, the largest subtree sum is equal to sum of all tree elements.\n",
    "\n",
    "Input2 :\n",
    "\n",
    "       1\n",
    "\n",
    "     /    \\\n",
    "\n",
    "  -2      3\n",
    "\n",
    "  / \\    /  \\\n",
    "\n",
    "4   5  -6   2\n",
    "\n",
    "Output2 : 7\n",
    "\n",
    "Subtree with largest sum is :\n",
    "\n",
    " -2\n",
    "\n",
    " / \\\n",
    "\n",
    "4   5\n",
    "\n",
    "Also, entire tree sum is also 7.\n",
    "\n",
    "</aside>"
   ]
  },
  {
   "cell_type": "code",
   "execution_count": 1,
   "metadata": {},
   "outputs": [],
   "source": [
    "class Tree:\n",
    "    def __init__(self, val):\n",
    "        self.val = val\n",
    "        self.left = None\n",
    "        self.right = None\n",
    "\n",
    "def find_maximum_sum_subtree(root):\n",
    "    if root is None:\n",
    "        return 0\n",
    "\n",
    "    left_sum = find_maximum_sum_subtree(root.left)\n",
    "    right_sum = find_maximum_sum_subtree(root.right)\n",
    "\n",
    "    total_sum = root.val + left_sum + right_sum\n",
    "    \n",
    "    if find_maximum_sum_subtree.max_sum < total_sum:\n",
    "        find_maximum_sum_subtree.max_sum = total_sum\n",
    "    return total_sum"
   ]
  },
  {
   "cell_type": "code",
   "execution_count": 2,
   "metadata": {},
   "outputs": [
    {
     "name": "stdout",
     "output_type": "stream",
     "text": [
      "28\n"
     ]
    }
   ],
   "source": [
    "root = Tree(1)\n",
    "root.left = Tree(2)\n",
    "root.right = Tree(3)\n",
    "root.left.left = Tree(4)\n",
    "root.left.right = Tree(5)\n",
    "root.right.left = Tree(6)\n",
    "root.right.right = Tree(7)\n",
    "\n",
    "find_maximum_sum_subtree.max_sum = float('-inf')\n",
    "\n",
    "find_maximum_sum_subtree(root)\n",
    "\n",
    "print(find_maximum_sum_subtree.max_sum)"
   ]
  },
  {
   "cell_type": "code",
   "execution_count": 3,
   "metadata": {},
   "outputs": [
    {
     "name": "stdout",
     "output_type": "stream",
     "text": [
      "7\n"
     ]
    }
   ],
   "source": [
    "root = Tree(1)\n",
    "root.left = Tree(-2)\n",
    "root.right = Tree(3)\n",
    "root.left.left = Tree(4)\n",
    "root.left.right = Tree(5)\n",
    "root.right.left = Tree(-6)\n",
    "root.right.right = Tree(2)\n",
    "\n",
    "find_maximum_sum_subtree.max_sum = float('-inf')\n",
    "\n",
    "find_maximum_sum_subtree(root)\n",
    "\n",
    "print(find_maximum_sum_subtree.max_sum)"
   ]
  },
  {
   "cell_type": "markdown",
   "metadata": {},
   "source": [
    "<aside>\n",
    "\n",
    "Question-2\n",
    "\n",
    "Construct the BST (Binary Search Tree) from its given level order traversal.\n",
    "\n",
    "Example:\n",
    "\n",
    "Input: arr[] = {7, 4, 12, 3, 6, 8, 1, 5, 10}\n",
    "\n",
    "Output: BST:\n",
    "\n",
    "            7\n",
    "\n",
    "         /    \\\n",
    "\n",
    "       4     12\n",
    "\n",
    "     /  \\     /\n",
    "\n",
    "    3   6  8\n",
    "\n",
    "   /    /     \\\n",
    "\n",
    " 1    5      10\n",
    "\n",
    "</aside>\n"
   ]
  },
  {
   "cell_type": "code",
   "execution_count": 4,
   "metadata": {},
   "outputs": [],
   "source": [
    "class Tree:\n",
    "    def __init__(self, val):\n",
    "        self.val = val\n",
    "        self.left = None\n",
    "        self.right = None\n",
    "\n",
    "def Construct_BST_Tree(level_order):\n",
    "    if not level_order:\n",
    "        return None\n",
    "\n",
    "    root = Tree(level_order[0])\n",
    "    queue = [root]\n",
    "    i = 1\n",
    "\n",
    "    while i < len(level_order):\n",
    "        current = queue.pop(0)\n",
    "\n",
    "        if i < len(level_order) and level_order[i] < current.val:\n",
    "            current.left = Tree(level_order[i])\n",
    "            queue.append(current.left)\n",
    "            i += 1\n",
    "\n",
    "        if i < len(level_order) and level_order[i] > current.val:\n",
    "            current.right = Tree(level_order[i])\n",
    "            queue.append(current.right)\n",
    "            i += 1\n",
    "\n",
    "    return root\n",
    "\n",
    "def traversal(root):\n",
    "    if root:\n",
    "        traversal(root.left)\n",
    "        print(root.val, end=\" \")\n",
    "        traversal(root.right)"
   ]
  },
  {
   "cell_type": "code",
   "execution_count": 5,
   "metadata": {},
   "outputs": [
    {
     "name": "stdout",
     "output_type": "stream",
     "text": [
      "1 3 5 4 6 10 7 8 12 "
     ]
    }
   ],
   "source": [
    "level_order = [7, 4, 12, 3, 6, 8, 1, 5, 10]\n",
    "\n",
    "root = Construct_BST_Tree(level_order)\n",
    "\n",
    "traversal(root)"
   ]
  },
  {
   "cell_type": "markdown",
   "metadata": {},
   "source": [
    "<aside>\n",
    "\n",
    "Question-3\n",
    "\n",
    "Given an array of size n. The problem is to check whether the given array can represent the level order traversal of a Binary Search Tree or not.\n",
    "\n",
    "Examples:\n",
    "\n",
    "Input1 : arr[] = {7, 4, 12, 3, 6, 8, 1, 5, 10}\n",
    "\n",
    "Output1 : Yes\n",
    "\n",
    "For the given arr[], the Binary Search Tree is:\n",
    "\n",
    "            7\n",
    "\n",
    "         /    \\\n",
    "\n",
    "       4     12\n",
    "\n",
    "     /  \\     /\n",
    "\n",
    "    3   6  8\n",
    "\n",
    "   /    /     \\\n",
    "\n",
    " 1    5      10\n",
    "\n",
    "Input2 : arr[] = {11, 6, 13, 5, 12, 10}\n",
    "\n",
    "Output2 : No\n",
    "\n",
    "The given arr[] does not represent the level order traversal of a BST.\n",
    "\n",
    "</aside>"
   ]
  },
  {
   "cell_type": "code",
   "execution_count": 6,
   "metadata": {},
   "outputs": [],
   "source": [
    "class Tree:\n",
    "    def __init__(self, val):\n",
    "        self.val = val\n",
    "        self.left = None\n",
    "        self.right = None\n",
    "\n",
    "def represent_level_of_order_traversal(arr):\n",
    "    if not arr:\n",
    "        return True\n",
    "\n",
    "    n = len(arr)\n",
    "    root = Tree(arr[0])\n",
    "    queue = [root]\n",
    "    i = 1\n",
    "\n",
    "    while i < n and queue:\n",
    "        current = queue.pop(0)\n",
    "\n",
    "        if arr[i] < current.val:\n",
    "            current.left = Tree(arr[i])\n",
    "            queue.append(current.left)\n",
    "            i += 1\n",
    "\n",
    "        if i < n and arr[i] > current.val:\n",
    "            current.right = Tree(arr[i])\n",
    "            queue.append(current.right)\n",
    "            i += 1\n",
    "\n",
    "    return i == n and not queue"
   ]
  },
  {
   "cell_type": "code",
   "execution_count": 7,
   "metadata": {},
   "outputs": [
    {
     "name": "stdout",
     "output_type": "stream",
     "text": [
      "No\n"
     ]
    }
   ],
   "source": [
    "arr = [11, 6, 13, 5, 12, 10]\n",
    "\n",
    "result = represent_level_of_order_traversal(arr)\n",
    "\n",
    "if result:\n",
    "    print(\"Yes\")\n",
    "else:\n",
    "    print(\"No\")"
   ]
  },
  {
   "cell_type": "code",
   "execution_count": 8,
   "metadata": {},
   "outputs": [
    {
     "name": "stdout",
     "output_type": "stream",
     "text": [
      "No\n"
     ]
    }
   ],
   "source": [
    "\n",
    "arr = [7, 4, 12, 3, 6, 8, 1, 5, 10]\n",
    "\n",
    "result = represent_level_of_order_traversal(arr)\n",
    "\n",
    "if result:\n",
    "    print(\"Yes\")\n",
    "else:\n",
    "    print(\"No\")"
   ]
  }
 ],
 "metadata": {
  "kernelspec": {
   "display_name": "Python 3.8.0 (conda)",
   "language": "python",
   "name": "python3"
  },
  "language_info": {
   "codemirror_mode": {
    "name": "ipython",
    "version": 3
   },
   "file_extension": ".py",
   "mimetype": "text/x-python",
   "name": "python",
   "nbconvert_exporter": "python",
   "pygments_lexer": "ipython3",
   "version": "3.8.0"
  },
  "orig_nbformat": 4,
  "vscode": {
   "interpreter": {
    "hash": "42b74cfff71d3d2c5395e1204e0f5e89c7fb955315167e723ecaaaa7dff14836"
   }
  }
 },
 "nbformat": 4,
 "nbformat_minor": 2
}
