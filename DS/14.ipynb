{
 "cells": [
  {
   "cell_type": "markdown",
   "metadata": {},
   "source": [
    "<aside>\n",
    "\n",
    " **Question 1**\n",
    "\n",
    "Given a linked list of **N** nodes such that it may contain a loop.\n",
    "\n",
    "A loop here means that the last node of the link list is connected to the node at position X(1-based index). If the link list does not have any loop, X=0.\n",
    "\n",
    "Remove the loop from the linked list, if it is present, i.e. unlink the last node which is forming the loop.\n",
    "\n",
    "**Example 1:**\n",
    "\n",
    "```\n",
    "Input:\n",
    "N = 3\n",
    "value[] = {1,3,4}\n",
    "X = 2\n",
    "Output:1\n",
    "Explanation:The link list looks like\n",
    "1 -> 3 -> 4\n",
    "     ^    |\n",
    "     |____|\n",
    "A loop is present. If you remove it\n",
    "successfully, the answer will be 1.\n",
    "\n",
    "```\n",
    "\n",
    "**Example 2:**\n",
    "\n",
    "```\n",
    "Input:\n",
    "N = 4\n",
    "value[] = {1,8,3,4}\n",
    "X = 0\n",
    "Output:1\n",
    "Explanation:The Linked list does not\n",
    "contains any loop.\n",
    "```\n",
    "\n",
    "**Example 3:**\n",
    "\n",
    "```\n",
    "Input:\n",
    "N = 4\n",
    "value[] = {1,2,3,4}\n",
    "X = 1\n",
    "Output:1\n",
    "Explanation:The link list looks like\n",
    "1 -> 2 -> 3 -> 4\n",
    "^              |\n",
    "|______________|\n",
    "A loop is present.\n",
    "If you remove it successfully,\n",
    "the answer will be 1.\n",
    "```\n",
    "\n",
    "</aside>"
   ]
  },
  {
   "cell_type": "code",
   "execution_count": 25,
   "metadata": {},
   "outputs": [],
   "source": [
    "class ListNode:\n",
    "    def __init__(self, val=0, next=None):\n",
    "        self.val = val\n",
    "        self.next = next\n",
    "\n",
    "def detect_and_remove_loop(head):\n",
    "    if not head or not head.next:\n",
    "        return head\n",
    "\n",
    "    slow = head\n",
    "    fast = head\n",
    "\n",
    "    while fast and fast.next:\n",
    "        slow = slow.next\n",
    "        fast = fast.next.next\n",
    "        if slow == fast:\n",
    "            break\n",
    "\n",
    "    if slow != fast:\n",
    "        return head\n",
    "\n",
    "    slow = head\n",
    "    while slow.next != fast.next:\n",
    "        slow = slow.next\n",
    "        fast = fast.next\n",
    "    fast.next = None\n",
    "    return head"
   ]
  },
  {
   "cell_type": "code",
   "execution_count": 26,
   "metadata": {},
   "outputs": [
    {
     "name": "stdout",
     "output_type": "stream",
     "text": [
      "1->3->4->"
     ]
    }
   ],
   "source": [
    "head = ListNode(1)\n",
    "head.next = ListNode(3)\n",
    "head.next.next = ListNode(4)\n",
    "head.next.next.next = head.next\n",
    "\n",
    "result = detect_and_remove_loop(head)\n",
    "\n",
    "while result:\n",
    "    print(result.val, end=\"->\")\n",
    "    result = result.next"
   ]
  },
  {
   "cell_type": "code",
   "execution_count": 27,
   "metadata": {},
   "outputs": [
    {
     "name": "stdout",
     "output_type": "stream",
     "text": [
      "1->8->3->4->"
     ]
    }
   ],
   "source": [
    "head = ListNode(1)\n",
    "head.next = ListNode(8)\n",
    "head.next.next = ListNode(3)\n",
    "head.next.next.next = ListNode(4)\n",
    "head.next.next.next.next = head.next\n",
    "\n",
    "result = detect_and_remove_loop(head)\n",
    "\n",
    "while result:\n",
    "    print(result.val, end=\"->\")\n",
    "    result = result.next"
   ]
  },
  {
   "cell_type": "code",
   "execution_count": 28,
   "metadata": {},
   "outputs": [
    {
     "name": "stdout",
     "output_type": "stream",
     "text": [
      "1->2->3->4->"
     ]
    }
   ],
   "source": [
    "head = ListNode(1)\n",
    "head.next = ListNode(2)\n",
    "head.next.next = ListNode(3)\n",
    "head.next.next.next = ListNode(4)\n",
    "head.next.next.next.next = head.next\n",
    "\n",
    "result = detect_and_remove_loop(head)\n",
    "\n",
    "while result:\n",
    "    print(result.val, end=\"->\")\n",
    "    result = result.next"
   ]
  },
  {
   "cell_type": "markdown",
   "metadata": {},
   "source": [
    "<aside>\n",
    "\n",
    " **Question 2**\n",
    "\n",
    "A number **N** is represented in Linked List such that each digit corresponds to a node in linked list. You need to add 1 to it.\n",
    "\n",
    "**Example 1:**\n",
    "\n",
    "```\n",
    "Input:\n",
    "LinkedList: 4->5->6\n",
    "Output:457\n",
    "\n",
    "```\n",
    "\n",
    "**Example 2:**\n",
    "\n",
    "```\n",
    "Input:\n",
    "LinkedList: 1->2->3\n",
    "Output:124\n",
    "```\n",
    "\n",
    "</aside>"
   ]
  },
  {
   "cell_type": "code",
   "execution_count": 29,
   "metadata": {},
   "outputs": [],
   "source": [
    "class ListNode:\n",
    "    def __init__(self, val):\n",
    "        self.val = val\n",
    "        self.next = None\n",
    "\n",
    "def reverse_linked_list(head):\n",
    "    prev = None\n",
    "    curr = head\n",
    "\n",
    "    while curr:\n",
    "        next_node = curr.next\n",
    "        curr.next = prev\n",
    "        prev = curr\n",
    "        curr = next_node\n",
    "\n",
    "    return prev\n",
    "\n",
    "def add_one(head):\n",
    "    reversed_head = reverse_linked_list(head)\n",
    "    curr = reversed_head\n",
    "    carry = 1\n",
    "\n",
    "    while curr:\n",
    "        curr.val += carry\n",
    "        carry = curr.val // 10\n",
    "        curr.val %= 10\n",
    "\n",
    "        if not curr.next and carry:\n",
    "            curr.next = ListNode(carry)\n",
    "        curr = curr.next\n",
    "    result = reverse_linked_list(reversed_head)\n",
    "    return result"
   ]
  },
  {
   "cell_type": "code",
   "execution_count": 30,
   "metadata": {},
   "outputs": [
    {
     "name": "stdout",
     "output_type": "stream",
     "text": [
      "457\n"
     ]
    }
   ],
   "source": [
    "head1 = ListNode(4)\n",
    "head1.next = ListNode(5)\n",
    "head1.next.next = ListNode(6)\n",
    "\n",
    "result1 = add_one(head1)\n",
    "while result1:\n",
    "    print(result1.val, end=\"\")\n",
    "    result1 = result1.next\n",
    "print()"
   ]
  },
  {
   "cell_type": "code",
   "execution_count": 31,
   "metadata": {},
   "outputs": [
    {
     "name": "stdout",
     "output_type": "stream",
     "text": [
      "124\n"
     ]
    }
   ],
   "source": [
    "head2 = ListNode(1)\n",
    "head2.next = ListNode(2)\n",
    "head2.next.next = ListNode(3)\n",
    "\n",
    "result2 = add_one(head2)\n",
    "while result2:\n",
    "    print(result2.val, end=\"\")\n",
    "    result2 = result2.next\n",
    "print()"
   ]
  },
  {
   "cell_type": "markdown",
   "metadata": {},
   "source": [
    "<aside>\n",
    "\n",
    " **Question 3**\n",
    "\n",
    "Given a Linked List of size N, where every node represents a sub-linked-list and contains two pointers:(i) a **next** pointer to the next node,(ii) a **bottom** pointer to a linked list where this node is head.Each of the sub-linked-list is in sorted order.Flatten the Link List such that all the nodes appear in a single level while maintaining the sorted order. **Note:** The flattened list will be printed using the bottom pointer instead of next pointer.\n",
    "\n",
    "**Example 1:**\n",
    "\n",
    "```\n",
    "Input:\n",
    "5 -> 10 -> 19 -> 28\n",
    "|     |     |     |\n",
    "7     20    22   35\n",
    "|           |     |\n",
    "8          50    40\n",
    "|                 |\n",
    "30               45\n",
    "Output: 5-> 7-> 8- > 10 -> 19-> 20->\n",
    "22-> 28-> 30-> 35-> 40-> 45-> 50.\n",
    "Explanation:\n",
    "The resultant linked lists has every\n",
    "node in a single level.(Note:| represents the bottom pointer.)\n",
    "\n",
    "```\n",
    "\n",
    "**Example 2:**\n",
    "\n",
    "```\n",
    "Input:\n",
    "5 -> 10 -> 19 -> 28\n",
    "|          |\n",
    "7          22\n",
    "|          |\n",
    "8          50\n",
    "|\n",
    "30\n",
    "Output: 5->7->8->10->19->22->28->30->50\n",
    "Explanation:\n",
    "The resultant linked lists has every\n",
    "node in a single level.\n",
    "\n",
    "(Note:| represents the bottom pointer.)\n",
    "```\n",
    "\n",
    "</aside>"
   ]
  },
  {
   "cell_type": "code",
   "execution_count": 32,
   "metadata": {},
   "outputs": [],
   "source": [
    "class Node:\n",
    "    def __init__(self, data):\n",
    "        self.data = data\n",
    "        self.next = None\n",
    "        self.bottom = None\n",
    "\n",
    "def merge_list(a, b):\n",
    "    if not a:\n",
    "        return b\n",
    "    if not b:\n",
    "        return a\n",
    "\n",
    "    result = None\n",
    "    if a.data <= b.data:\n",
    "        result = a\n",
    "        result.bottom = merge_list(a.bottom, b)\n",
    "    else:\n",
    "        result = b\n",
    "        result.bottom = merge_list(a, b.bottom)\n",
    "\n",
    "    return result\n",
    "\n",
    "def flatten_list(head):\n",
    "    if not head or not head.next:\n",
    "        return head\n",
    "    second_half = head.next\n",
    "    head = merge_list(head, flatten_list(second_half))\n",
    "    return head\n",
    "\n",
    "def print_list(head):\n",
    "    current = head\n",
    "    while current:\n",
    "        print(current.data, end=\"->\")\n",
    "        current = current.bottom\n",
    "    print(\"NULL\")"
   ]
  },
  {
   "cell_type": "code",
   "execution_count": 33,
   "metadata": {},
   "outputs": [
    {
     "name": "stdout",
     "output_type": "stream",
     "text": [
      "5->7->8->10->19->20->22->28->30->35->40->45->50->NULL\n"
     ]
    }
   ],
   "source": [
    "head = Node(5)\n",
    "head.next = Node(10)\n",
    "head.next.next = Node(19)\n",
    "head.next.next.next = Node(28)\n",
    "\n",
    "head.bottom = Node(7)\n",
    "head.bottom.bottom = Node(8)\n",
    "head.bottom.bottom.bottom = Node(30)\n",
    "\n",
    "head.next.bottom = Node(20)\n",
    "head.next.next.bottom = Node(22)\n",
    "head.next.next.next.bottom = Node(35)\n",
    "\n",
    "head.next.bottom.bottom = Node(50)\n",
    "head.next.next.bottom.bottom = Node(40)\n",
    "head.next.next.bottom.bottom.bottom = Node(45)\n",
    "flattened_head = flatten_list(head)\n",
    "print_list(flattened_head)"
   ]
  },
  {
   "cell_type": "markdown",
   "metadata": {},
   "source": [
    "<aside>\n",
    "\n",
    "**Question 4**\n",
    "\n",
    "You are given a special linked list with **N** nodes where each node has a next pointer pointing to its next node. You are also given **M** random pointers, where you will be given **M** number of pairs denoting two nodes **a** and **b**  **i.e. a->arb = b** (arb is pointer to random node)**.**\n",
    "\n",
    "Construct a copy of the given list. The copy should consist of exactly **N** new nodes, where each new node has its value set to the value of its corresponding original node. Both the next and random pointer of the new nodes should point to new nodes in the copied list such that the pointers in the original list and copied list represent the same list state. None of the pointers in the new list should point to nodes in the original list.\n",
    "\n",
    "For example, if there are two nodes **X** and **Y** in the original list, where **X.arb** **-->** **Y**, then for the corresponding two nodes **x** and **y** in the copied list, **x.arb --> y.**\n",
    "\n",
    "Return the head of the copied linked list.\n",
    "\n",
    "!https://contribute.geeksforgeeks.org/wp-content/uploads/clone.jpg\n",
    "\n",
    "**Note** :- The diagram isn't part of any example, it just depicts an example of how the linked list may look like.\n",
    "\n",
    "**Example 1:**\n",
    "\n",
    "```\n",
    "Input:\n",
    "N = 4, M = 2\n",
    "value = {1,2,3,4}\n",
    "pairs = {{1,2},{2,4}}\n",
    "Output:1\n",
    "Explanation:In this test case, there\n",
    "are 4 nodes in linked list.  Among these\n",
    "4 nodes,  2 nodes have arbitrary pointer\n",
    "set, rest two nodes have arbitrary pointer\n",
    "as NULL. Second line tells us the value\n",
    "of four nodes. The third line gives the\n",
    "information about arbitrary pointers.\n",
    "The first node arbitrary pointer is set to\n",
    "node 2.  The second node arbitrary pointer\n",
    "is set to node 4.\n",
    "\n",
    "```\n",
    "\n",
    "**Example 2:**\n",
    "\n",
    "```\n",
    "Input:\n",
    "N = 4, M = 2\n",
    "value[] = {1,3,5,9}\n",
    "pairs[] = {{1,1},{3,4}}\n",
    "Output:1\n",
    "Explanation:In the given testcase ,\n",
    "applying the method as stated in the\n",
    "above example, the output will be 1.\n",
    "```\n",
    "\n",
    "</aside>"
   ]
  },
  {
   "cell_type": "code",
   "execution_count": 34,
   "metadata": {},
   "outputs": [],
   "source": [
    "class Node:\n",
    "    def __init__(self, data):\n",
    "        self.data = data\n",
    "        self.next = None\n",
    "        self.arb = None\n",
    "\n",
    "def copy_list(head):\n",
    "    if not head:\n",
    "        return None\n",
    "    mapping = {}\n",
    "\n",
    "    curr = head\n",
    "    while curr:\n",
    "        new_node = Node(curr.data)\n",
    "        mapping[curr] = new_node\n",
    "        curr = curr.next\n",
    "\n",
    "    curr = head\n",
    "    while curr:\n",
    "        copied_node = mapping[curr]\n",
    "        copied_node.next = mapping.get(curr.next)\n",
    "        copied_node.arb = mapping.get(curr.arb)\n",
    "        curr = curr.next\n",
    "\n",
    "    return mapping[head]"
   ]
  },
  {
   "cell_type": "code",
   "execution_count": 35,
   "metadata": {},
   "outputs": [
    {
     "name": "stdout",
     "output_type": "stream",
     "text": [
      "1 2 3 4 \n"
     ]
    }
   ],
   "source": [
    "head1 = Node(1)\n",
    "head1.next = Node(2)\n",
    "head1.next.next = Node(3)\n",
    "head1.next.next.next = Node(4)\n",
    "\n",
    "head1.arb = head1.next\n",
    "head1.next.arb = head1.next.next.next\n",
    "\n",
    "result1 = copy_list(head1)\n",
    "while result1:\n",
    "    print(result1.data, end=\" \")\n",
    "    result1 = result1.next\n",
    "print()"
   ]
  },
  {
   "cell_type": "code",
   "execution_count": 36,
   "metadata": {},
   "outputs": [
    {
     "name": "stdout",
     "output_type": "stream",
     "text": [
      "1 3 5 9 \n"
     ]
    }
   ],
   "source": [
    "head2 = Node(1)\n",
    "head2.next = Node(3)\n",
    "head2.next.next = Node(5)\n",
    "head2.next.next.next = Node(9)\n",
    "\n",
    "head2.arb = head2\n",
    "head2.next.next.arb = head2.next.next.next\n",
    "\n",
    "result2 = copy_list(head2)\n",
    "while result2:\n",
    "    print(result2.data, end=\" \")\n",
    "    result2 = result2.next\n",
    "print()"
   ]
  },
  {
   "cell_type": "markdown",
   "metadata": {},
   "source": [
    "<aside>\n",
    "\n",
    "**Question 5**\n",
    "\n",
    "Given the `head` of a singly linked list, group all the nodes with odd indices together followed by the nodes with even indices, and return *the reordered list*.\n",
    "\n",
    "The **first** node is considered **odd**, and the **second** node is **even**, and so on.\n",
    "\n",
    "Note that the relative order inside both the even and odd groups should remain as it was in the input.\n",
    "\n",
    "You must solve the problem in `O(1)` extra space complexity and `O(n)` time complexity.\n",
    "\n",
    "**Example 1:**\n",
    "\n",
    "!https://assets.leetcode.com/uploads/2021/03/10/oddeven-linked-list.jpg\n",
    "\n",
    "```\n",
    "Input: head = [1,2,3,4,5]\n",
    "Output: [1,3,5,2,4]\n",
    "\n",
    "```\n",
    "\n",
    "**Example 2:**\n",
    "\n",
    "!https://assets.leetcode.com/uploads/2021/03/10/oddeven2-linked-list.jpg\n",
    "\n",
    "```\n",
    "Input: head = [2,1,3,5,6,4,7]\n",
    "Output: [2,3,6,7,1,5,4]\n",
    "```\n",
    "\n",
    "</aside>"
   ]
  },
  {
   "cell_type": "code",
   "execution_count": 37,
   "metadata": {},
   "outputs": [],
   "source": [
    "class ListNode:\n",
    "    def __init__(self, val=0, next=None):\n",
    "        self.val = val\n",
    "        self.next = next\n",
    "\n",
    "def odd_even_list(head):\n",
    "    if not head or not head.next:\n",
    "        return head\n",
    "\n",
    "    odd_head = head\n",
    "    even_head = head.next\n",
    "\n",
    "    odd = odd_head\n",
    "    even = even_head\n",
    "\n",
    "    while even and even.next:\n",
    "        odd.next = even.next\n",
    "        odd = odd.next\n",
    "        even.next = odd.next\n",
    "        even = even.next\n",
    "\n",
    "    odd.next = even_head\n",
    "\n",
    "    return odd_head"
   ]
  },
  {
   "cell_type": "code",
   "execution_count": 38,
   "metadata": {},
   "outputs": [
    {
     "name": "stdout",
     "output_type": "stream",
     "text": [
      "1 3 5 2 4 \n"
     ]
    }
   ],
   "source": [
    "head1 = ListNode(1)\n",
    "head1.next = ListNode(2)\n",
    "head1.next.next = ListNode(3)\n",
    "head1.next.next.next = ListNode(4)\n",
    "head1.next.next.next.next = ListNode(5)\n",
    "\n",
    "result1 = odd_even_list(head1)\n",
    "while result1:\n",
    "    print(result1.val, end=\" \")\n",
    "    result1 = result1.next\n",
    "print()"
   ]
  },
  {
   "cell_type": "code",
   "execution_count": 39,
   "metadata": {},
   "outputs": [
    {
     "name": "stdout",
     "output_type": "stream",
     "text": [
      "2 3 6 7 1 5 4 \n"
     ]
    }
   ],
   "source": [
    "head2 = ListNode(2)\n",
    "head2.next = ListNode(1)\n",
    "head2.next.next = ListNode(3)\n",
    "head2.next.next.next = ListNode(5)\n",
    "head2.next.next.next.next = ListNode(6)\n",
    "head2.next.next.next.next.next = ListNode(4)\n",
    "head2.next.next.next.next.next.next = ListNode(7)\n",
    "\n",
    "result2 = odd_even_list(head2)\n",
    "while result2:\n",
    "    print(result2.val, end=\" \")\n",
    "    result2 = result2.next\n",
    "print()"
   ]
  },
  {
   "cell_type": "markdown",
   "metadata": {},
   "source": [
    "<aside>\n",
    "\n",
    "**Question 6**\n",
    "\n",
    "Given a singly linked list of size **N**. The task is to **left-shift** the linked list by **k** nodes, where **k** is a given positive integer smaller than or equal to length of the linked list.\n",
    "\n",
    "**Example 1:**\n",
    "\n",
    "```\n",
    "Input:\n",
    "N = 5\n",
    "value[] = {2, 4, 7, 8, 9}\n",
    "k = 3\n",
    "Output:8 9 2 4 7\n",
    "Explanation:Rotate 1:4 -> 7 -> 8 -> 9 -> 2\n",
    "Rotate 2: 7 -> 8 -> 9 -> 2 -> 4\n",
    "Rotate 3: 8 -> 9 -> 2 -> 4 -> 7\n",
    "\n",
    "```\n",
    "\n",
    "**Example 2:**\n",
    "\n",
    "```\n",
    "Input:\n",
    "N = 8\n",
    "value[] = {1, 2, 3, 4, 5, 6, 7, 8}\n",
    "k = 4\n",
    "Output:5 6 7 8 1 2 3 4\n",
    "```\n",
    "\n",
    "</aside>"
   ]
  },
  {
   "cell_type": "code",
   "execution_count": 40,
   "metadata": {},
   "outputs": [],
   "source": [
    "class ListNode:\n",
    "    def __init__(self, val=0, next=None):\n",
    "        self.val = val\n",
    "        self.next = next\n",
    "\n",
    "def left_shift(head, k):\n",
    "    if not head or k == 0:\n",
    "        return head\n",
    "\n",
    "    length = 0\n",
    "    curr = head\n",
    "    while curr:\n",
    "        length += 1\n",
    "        curr = curr.next\n",
    "\n",
    "    k = k % length\n",
    "    if k == 0:\n",
    "        return head\n",
    "\n",
    "    new_head = head\n",
    "    new_tail = head\n",
    "    for _ in range(k):\n",
    "        new_tail = new_tail.next\n",
    "\n",
    "    while new_tail.next:\n",
    "        new_head = new_head.next\n",
    "        new_tail = new_tail.next\n",
    "\n",
    "    new_tail.next = head\n",
    "    head = new_head.next\n",
    "    new_head.next = None\n",
    "\n",
    "    return head"
   ]
  },
  {
   "cell_type": "code",
   "execution_count": 41,
   "metadata": {},
   "outputs": [
    {
     "name": "stdout",
     "output_type": "stream",
     "text": [
      "7 8 9 2 4 \n"
     ]
    }
   ],
   "source": [
    "head1 = ListNode(2)\n",
    "head1.next = ListNode(4)\n",
    "head1.next.next = ListNode(7)\n",
    "head1.next.next.next = ListNode(8)\n",
    "head1.next.next.next.next = ListNode(9)\n",
    "k1 = 3\n",
    "\n",
    "result1 = left_shift(head1, k1)\n",
    "while result1:\n",
    "    print(result1.val, end=\" \")\n",
    "    result1 = result1.next\n",
    "print()"
   ]
  },
  {
   "cell_type": "code",
   "execution_count": 42,
   "metadata": {},
   "outputs": [
    {
     "name": "stdout",
     "output_type": "stream",
     "text": [
      "5 6 7 8 1 2 3 4 \n"
     ]
    }
   ],
   "source": [
    "head2 = ListNode(1)\n",
    "head2.next = ListNode(2)\n",
    "head2.next.next = ListNode(3)\n",
    "head2.next.next.next = ListNode(4)\n",
    "head2.next.next.next.next = ListNode(5)\n",
    "head2.next.next.next.next.next = ListNode(6)\n",
    "head2.next.next.next.next.next.next = ListNode(7)\n",
    "head2.next.next.next.next.next.next.next = ListNode(8)\n",
    "k2 = 4\n",
    "\n",
    "result2 = left_shift(head2, k2)\n",
    "while result2:\n",
    "    print(result2.val, end=\" \")\n",
    "    result2 = result2.next\n",
    "print()"
   ]
  },
  {
   "cell_type": "markdown",
   "metadata": {},
   "source": [
    "<aside>\n",
    "\n",
    " **Question 7**\n",
    "\n",
    "You are given the `head` of a linked list with `n` nodes.\n",
    "\n",
    "For each node in the list, find the value of the **next greater node**. That is, for each node, find the value of the first node that is next to it and has a **strictly larger** value than it.\n",
    "\n",
    "Return an integer array `answer` where `answer[i]` is the value of the next greater node of the `ith` node (**1-indexed**). If the `ith` node does not have a next greater node, set `answer[i] = 0`.\n",
    "\n",
    "**Example 1:**\n",
    "\n",
    "!https://assets.leetcode.com/uploads/2021/08/05/linkedlistnext1.jpg\n",
    "\n",
    "```\n",
    "Input: head = [2,1,5]\n",
    "Output: [5,5,0]\n",
    "\n",
    "```\n",
    "\n",
    "**Example 2:**\n",
    "\n",
    "!https://assets.leetcode.com/uploads/2021/08/05/linkedlistnext2.jpg\n",
    "\n",
    "```\n",
    "Input: head = [2,7,4,3,5]\n",
    "Output: [7,0,5,5,0]\n",
    "```\n",
    "\n",
    "</aside>"
   ]
  },
  {
   "cell_type": "code",
   "execution_count": 43,
   "metadata": {},
   "outputs": [],
   "source": [
    "class ListNode:\n",
    "    def __init__(self, val=0, next=None):\n",
    "        self.val = val\n",
    "        self.next = next\n",
    "\n",
    "def reverse_linked_list(head):\n",
    "    prev = None\n",
    "    curr = head\n",
    "\n",
    "    while curr:\n",
    "        next_node = curr.next\n",
    "        curr.next = prev\n",
    "        prev = curr\n",
    "        curr = next_node\n",
    "\n",
    "    return prev\n",
    "\n",
    "def next_larger_nodes(head):\n",
    "    reversed_head = reverse_linked_list(head)\n",
    "    stack = []\n",
    "    result = []\n",
    "\n",
    "    while reversed_head:\n",
    "        while stack and stack[-1] <= reversed_head.val:\n",
    "            stack.pop()\n",
    "\n",
    "        if stack:\n",
    "            result.append(stack[-1])\n",
    "        else:\n",
    "            result.append(0)\n",
    "\n",
    "        stack.append(reversed_head.val)\n",
    "        reversed_head = reversed_head.next\n",
    "    result.reverse()\n",
    "    return result"
   ]
  },
  {
   "cell_type": "code",
   "execution_count": 44,
   "metadata": {},
   "outputs": [
    {
     "name": "stdout",
     "output_type": "stream",
     "text": [
      "[5, 5, 0]\n"
     ]
    }
   ],
   "source": [
    "head1 = ListNode(2)\n",
    "head1.next = ListNode(1)\n",
    "head1.next.next = ListNode(5)\n",
    "\n",
    "result1 = next_larger_nodes(head1)\n",
    "print(result1)"
   ]
  },
  {
   "cell_type": "code",
   "execution_count": 45,
   "metadata": {},
   "outputs": [
    {
     "name": "stdout",
     "output_type": "stream",
     "text": [
      "[7, 0, 5, 5, 0]\n"
     ]
    }
   ],
   "source": [
    "head2 = ListNode(2)\n",
    "head2.next = ListNode(7)\n",
    "head2.next.next = ListNode(4)\n",
    "head2.next.next.next = ListNode(3)\n",
    "head2.next.next.next.next = ListNode(5)\n",
    "\n",
    "result2 = next_larger_nodes(head2)\n",
    "print(result2)"
   ]
  },
  {
   "cell_type": "markdown",
   "metadata": {},
   "source": [
    "<aside>\n",
    "\n",
    "**Question 8**\n",
    "\n",
    "Given the `head` of a linked list, we repeatedly delete consecutive sequences of nodes that sum to `0` until there are no such sequences.\n",
    "\n",
    "After doing so, return the head of the final linked list.  You may return any such answer.\n",
    "\n",
    "(Note that in the examples below, all sequences are serializations of `ListNode` objects.)\n",
    "\n",
    "**Example 1:**\n",
    "\n",
    "```\n",
    "Input: head = [1,2,-3,3,1]\n",
    "Output: [3,1]\n",
    "Note: The answer [1,2,1] would also be accepted.\n",
    "\n",
    "```\n",
    "\n",
    "**Example 2:**\n",
    "\n",
    "```\n",
    "Input: head = [1,2,3,-3,4]\n",
    "Output: [1,2,4]\n",
    "\n",
    "```\n",
    "\n",
    "**Example 3:**\n",
    "\n",
    "\n",
    "```\n",
    "Input: head = [1,2,3,-3,-2]\n",
    "Output: [1]\n",
    "```\n",
    "</aside>"
   ]
  },
  {
   "cell_type": "code",
   "execution_count": 46,
   "metadata": {},
   "outputs": [],
   "source": [
    "class ListNode:\n",
    "    def __init__(self, val=0, next=None):\n",
    "        self.val = val\n",
    "        self.next = next\n",
    "\n",
    "def zero_sum(head):\n",
    "    dummy = ListNode(0)\n",
    "    dummy.next = head\n",
    "\n",
    "    prefixSum = 0\n",
    "    prefixSumDict = {}\n",
    "    node = dummy\n",
    "\n",
    "    while node:\n",
    "        prefixSum += node.val\n",
    "        prefixSumDict[prefixSum] = node\n",
    "        node = node.next\n",
    "\n",
    "    prefixSum = 0\n",
    "    node = dummy\n",
    "\n",
    "    while node:\n",
    "        prefixSum += node.val\n",
    "        node.next = prefixSumDict[prefixSum].next\n",
    "        node = node.next\n",
    "\n",
    "    return dummy.next"
   ]
  },
  {
   "cell_type": "code",
   "execution_count": 47,
   "metadata": {},
   "outputs": [
    {
     "name": "stdout",
     "output_type": "stream",
     "text": [
      "3 -> 1 -> "
     ]
    }
   ],
   "source": [
    "head = ListNode(1)\n",
    "head.next = ListNode(2)\n",
    "head.next.next = ListNode(-3)\n",
    "head.next.next.next = ListNode(3)\n",
    "head.next.next.next.next = ListNode(1)\n",
    "\n",
    "result = zero_sum(head)\n",
    "while result:\n",
    "    print(result.val, end=\" -> \")\n",
    "    result = result.next"
   ]
  },
  {
   "cell_type": "code",
   "execution_count": 48,
   "metadata": {},
   "outputs": [
    {
     "name": "stdout",
     "output_type": "stream",
     "text": [
      "1 -> 2 -> 4 -> "
     ]
    }
   ],
   "source": [
    "head = ListNode(1)\n",
    "head.next = ListNode(2)\n",
    "head.next.next = ListNode(3)\n",
    "head.next.next.next = ListNode(-3)\n",
    "head.next.next.next.next = ListNode(4)\n",
    "\n",
    "result = zero_sum(head)\n",
    "while result:\n",
    "    print(result.val, end=\" -> \")\n",
    "    result = result.next"
   ]
  }
 ],
 "metadata": {
  "kernelspec": {
   "display_name": "Python 3.10.7 64-bit",
   "language": "python",
   "name": "python3"
  },
  "language_info": {
   "codemirror_mode": {
    "name": "ipython",
    "version": 3
   },
   "file_extension": ".py",
   "mimetype": "text/x-python",
   "name": "python",
   "nbconvert_exporter": "python",
   "pygments_lexer": "ipython3",
   "version": "3.10.7"
  },
  "orig_nbformat": 4,
  "vscode": {
   "interpreter": {
    "hash": "3196968d684371006099b3d55edeef8ed90365227a30deaef86e5d4aa8519be0"
   }
  }
 },
 "nbformat": 4,
 "nbformat_minor": 2
}
