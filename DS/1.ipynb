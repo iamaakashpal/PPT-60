{
 "cells": [
  {
   "cell_type": "markdown",
   "metadata": {},
   "source": [
    "**Q1.** Given an array of integers nums and an integer target, return indices of the two numbers such that they add up to target.\n",
    "\n",
    "You may assume that each input would have exactly one solution, and you may not use the same element twice.\n",
    "\n",
    "You can return the answer in any order.\n",
    "\n",
    "**Example:**\n",
    "Input: nums = [2,7,11,15], target = 9\n",
    "Output: [0,1]\n",
    "\n",
    "**Explanation:** Because nums[0] + nums[1] == 9, we return [0, 1]"
   ]
  },
  {
   "cell_type": "code",
   "execution_count": 1,
   "metadata": {},
   "outputs": [
    {
     "data": {
      "text/plain": [
       "[0, 1]"
      ]
     },
     "execution_count": 1,
     "metadata": {},
     "output_type": "execute_result"
    }
   ],
   "source": [
    "def sum_of_number(nums, target):\n",
    "    dict = {}\n",
    "\n",
    "    for i, num in enumerate(nums):\n",
    "        temp = target - num\n",
    "        \n",
    "        if temp in dict:\n",
    "            return [dict[temp], i]        \n",
    "        dict[num] = i\n",
    "    return []\n",
    "\n",
    "nums = [2, 7, 11, 15]\n",
    "target = 9\n",
    "sum_of_number(nums, target)"
   ]
  },
  {
   "cell_type": "markdown",
   "metadata": {},
   "source": [
    "**Code Explaination:**\n",
    "\n",
    "- We have initialize an empty dictionary called dict to store the elements from the list and it's corresponding indices.\n",
    "\n",
    "- *`for loop`* will generate output as (0,2), (1,7), (2,11), (3,15)\n",
    "\n",
    "- In first iteration, \n",
    "\n",
    "          i = 0 and num = 2,\n",
    "          temp = target - num\n",
    "               = 9 - 2 \n",
    "          temp = 7\n",
    "\n",
    "     - Is 7 present in dict *`No`* then exit the if statement and update dict as dict[num] = i --> dict[2] = 0 --> dict = {2:0}\n",
    "\n",
    "\n",
    "- In second iteration, \n",
    "\n",
    "          i = 1 and num = 7,\n",
    "          temp = target - num\n",
    "               = 9 - 7 \n",
    "          temp = 2\n",
    "\n",
    "     - Is 2 present in dict *`Yes`* then enter in if statement and return [dict[temp],i] --> [dict[2],1] --> [0,1]"
   ]
  },
  {
   "cell_type": "markdown",
   "metadata": {},
   "source": [
    "**Q2.** Given an integer array nums and an integer val, remove all occurrences of val in nums in-place. The order of the elements may be changed. Then return the number of elements in nums which are not equal to val.\n",
    "\n",
    "Consider the number of elements in nums which are not equal to val be k, to get accepted, you need to do the following things:\n",
    "\n",
    "- Change the array nums such that the first k elements of nums contain the elements which are not equal to val. The remaining elements of nums are not important as well as the size of nums.\n",
    "- Return k.\n",
    "\n",
    "**Example :**\n",
    "Input: nums = [3,2,2,3], val = 3\n",
    "Output: 2, nums = [2,2,_*,_*]\n",
    "\n",
    "**Explanation:** Your function should return k = 2, with the first two elements of nums being 2. It does not matter what you leave beyond the returned k (hence they are underscores)"
   ]
  },
  {
   "cell_type": "code",
   "execution_count": 2,
   "metadata": {},
   "outputs": [
    {
     "name": "stdout",
     "output_type": "stream",
     "text": [
      "Output: 2\n",
      "nums: [2, 2]\n"
     ]
    }
   ],
   "source": [
    "def remove_number(nums, val):\n",
    "    a = 0\n",
    "    for i in range(len(nums)):\n",
    "        if nums[i] != val:\n",
    "            nums[a] = nums[i]\n",
    "            a += 1\n",
    "    return a\n",
    "nums = [3, 2, 2, 3]\n",
    "val = 3\n",
    "result = remove_number(nums, val)\n",
    "print(\"Output:\", result)\n",
    "print(\"nums:\", nums[:result])"
   ]
  },
  {
   "cell_type": "markdown",
   "metadata": {},
   "source": [
    "**Code Explaination:**\n",
    "\n",
    "- We have initialize a variable *`a`* as 0 to keep track of the position where non-val elements will be place i.e. 2\n",
    "\n",
    "- *`for loop`* will generate output as (0,1,2,3)\n",
    "\n",
    "- In first iteration, a = 0, i = 0 \n",
    "\n",
    "     - Is nums[i] != val --> nums[0] != 3 --> 3 != 3 *`false`* exit the *`if`* statement.\n",
    "\n",
    "- In second iteration, a = 0, i = 1 \n",
    "\n",
    "     - Is nums[i] != val --> nums[1] != 3 --> 2 != 3 *`True`* then enter in the *`if`* statement.\n",
    "     - nums[a] = nums[i] --> nums[0] = nums[1] --> nums[0] = 2 --> nums = [2,2,2,3]\n",
    "     - Increment value of a i.e. a = 1\n",
    "\n",
    "- In third iteration, a = 1, i = 2 \n",
    "\n",
    "     - Is nums[i] != val --> nums[2] != 3 --> 2 != 3 *`True`* then enter in the *`if`* statement.\n",
    "     - nums[a] = nums[i] --> nums[1] = nums[2] --> nums[1] = 2 --> nums = [2,2,2,3]\n",
    "     - Increment value of a i.e. a = 2\n",
    "\n",
    "- In forth iteration, a = 2, i = 3 \n",
    "\n",
    "     - Is nums[i] != val --> nums[3] != 3 --> 3 != 3 *`false`* exit the *`if`* statement.\n",
    "\n",
    "- After *`for loop`* gets completely executed it will return the value of valriable *`a`* i.e. a = 2 --> 2\n",
    "\n",
    "- Finally, we will print our output as\n",
    "\n",
    "          Output: 2\n",
    "          nums: [2, 2]"
   ]
  },
  {
   "cell_type": "markdown",
   "metadata": {},
   "source": [
    "**Q3.** Given a sorted array of distinct integers and a target value, return the index if the target is found. If not, return the index where it would be if it were inserted in order.\n",
    "\n",
    "You must write an algorithm with O(log n) runtime complexity.\n",
    "\n",
    "**Example 1:**\n",
    "Input: nums = [1,3,5,6], target = 5\n",
    "\n",
    "Output: 2"
   ]
  },
  {
   "cell_type": "code",
   "execution_count": 3,
   "metadata": {},
   "outputs": [
    {
     "name": "stdout",
     "output_type": "stream",
     "text": [
      "2\n"
     ]
    }
   ],
   "source": [
    "def search_index(nums, target):\n",
    "    left = 0\n",
    "    right = len(nums) - 1\n",
    "    \n",
    "    while left <= right:\n",
    "        mid = (left + right) // 2\n",
    "        \n",
    "        if nums[mid] == target:\n",
    "            return mid\n",
    "        elif nums[mid] < target:\n",
    "            left = mid + 1\n",
    "        else:\n",
    "            right = mid - 1\n",
    "    \n",
    "    return left\n",
    "\n",
    "nums = [1, 3, 5, 6]\n",
    "target = 5\n",
    "index = search_index(nums, target)\n",
    "print(index)"
   ]
  },
  {
   "cell_type": "markdown",
   "metadata": {},
   "source": [
    "**Code Explaination:**\n",
    "\n",
    "- We have initialize a variable as *`left`* and *`right`* such that left = 0 and right = len(nums) - 1 --> 4-1 --> 3\n",
    "- Then we have used while loop such that left <= right i.e. 0 <= 3\n",
    "- In first iteration, left = 0, right = 3 \n",
    "    - Then we have initialize *`mid`* variable such that\n",
    "\n",
    "            mid = (left + right) // 2\n",
    "                = (0 + 3) // 2\n",
    "                = 3 // 2\n",
    "            mid = 1\n",
    "    \n",
    "    - Is nums[mid] == target --> nums[1] == 5 --> 3 == 5 *`false`* exit the *`if`* statement and enter in the *`elif`* statement.\n",
    "    - Is nums[mid] < target --> nums[1] < 5 --> 3 < 5 *`true`*. \n",
    "            \n",
    "            left = mid + 1\n",
    "                 = 1 + 1\n",
    "            left = 2\n",
    "\n",
    "- In second iteration, left = 2, right = 3\n",
    "    - Then we will update the value of *`mid`* variable such that\n",
    "\n",
    "            mid = (left + right) // 2\n",
    "                = (2 + 3) // 2\n",
    "                = 5 // 2\n",
    "            mid = 2\n",
    "\n",
    "    - Is nums[mid] == target --> nums[2] == 5 --> 5 == 5 *`true`* then return the value of *`mid`* variable i.e.2.\n",
    "\n",
    "- Finally, we will print our output as\n",
    "\n",
    "        2\n"
   ]
  },
  {
   "cell_type": "markdown",
   "metadata": {},
   "source": [
    "**Q4.** You are given a large integer represented as an integer array digits, where each digits[i] is the ith digit of the integer. The digits are ordered from most significant to least significant in left-to-right order. The large integer does not contain any leading 0's.\n",
    "\n",
    "Increment the large integer by one and return the resulting array of digits.\n",
    "\n",
    "**Example 1:**\n",
    "Input: digits = [1,2,3]\n",
    "Output: [1,2,4]\n",
    "\n",
    "**Explanation:** The array represents the integer 123.\n",
    "\n",
    "Incrementing by one gives 123 + 1 = 124.\n",
    "Thus, the result should be [1,2,4]."
   ]
  },
  {
   "cell_type": "code",
   "execution_count": 4,
   "metadata": {},
   "outputs": [
    {
     "name": "stdout",
     "output_type": "stream",
     "text": [
      "[1, 2, 4]\n"
     ]
    }
   ],
   "source": [
    "def value_increment(nums):\n",
    "    a = len(nums)\n",
    "    increment = 1\n",
    "    \n",
    "    for i in range(a-1, -1, -1):\n",
    "        nums[i] += increment\n",
    "        if nums[i] < 10:\n",
    "            increment = 0\n",
    "            break\n",
    "        else:\n",
    "            nums[i] = 0\n",
    "    \n",
    "    if increment == 1:\n",
    "        nums.insert(0, 1)\n",
    "    return nums\n",
    "\n",
    "nums = [1, 2, 3]\n",
    "result = value_increment(nums)\n",
    "print(result)"
   ]
  },
  {
   "cell_type": "markdown",
   "metadata": {},
   "source": [
    "**Code Explaination:**"
   ]
  },
  {
   "cell_type": "markdown",
   "metadata": {},
   "source": [
    "**Q5.** You are given two integer arrays nums1 and nums2, sorted in non-decreasing order, and two integers m and n, representing the number of elements in nums1 and nums2 respectively.\n",
    "\n",
    "Merge nums1 and nums2 into a single array sorted in non-decreasing order.\n",
    "\n",
    "The final sorted array should not be returned by the function, but instead be stored inside the array nums1. To accommodate this, nums1 has a length of m + n, where the first m elements denote the elements that should be merged, and the last n elements are set to 0 and should be ignored. nums2 has a length of n.\n",
    "\n",
    "**Example 1:**\n",
    "Input: nums1 = [1,2,3,0,0,0], m = 3, nums2 = [2,5,6], n = 3\n",
    "Output: [1,2,2,3,5,6]\n",
    "\n",
    "**Explanation:** The arrays we are merging are [1,2,3] and [2,5,6].\n",
    "The result of the merge is [1,2,2,3,5,6] with the underlined elements coming from nums1."
   ]
  },
  {
   "cell_type": "code",
   "execution_count": 5,
   "metadata": {},
   "outputs": [
    {
     "name": "stdout",
     "output_type": "stream",
     "text": [
      "[1, 2, 2, 3, 5, 6]\n"
     ]
    }
   ],
   "source": [
    "def merge_array(nums1, m, nums2, n):\n",
    "    p1 = m - 1\n",
    "    p2 = n - 1\n",
    "    p = m + n - 1\n",
    "    \n",
    "    while p1 >= 0 and p2 >= 0:\n",
    "        if nums1[p1] >= nums2[p2]:\n",
    "            nums1[p] = nums1[p1]\n",
    "            p1 -= 1\n",
    "        else:\n",
    "            nums1[p] = nums2[p2]\n",
    "            p2 -= 1\n",
    "        p -= 1\n",
    "    \n",
    "    nums1[:p2 + 1] = nums2[:p2 + 1]\n",
    "    \n",
    "    return nums1\n",
    "\n",
    "nums1 = [1, 2, 3, 0, 0, 0]\n",
    "m = 3\n",
    "nums2 = [2, 5, 6]\n",
    "n = 3\n",
    "result = merge_array(nums1, m, nums2, n)\n",
    "print(result)"
   ]
  },
  {
   "cell_type": "markdown",
   "metadata": {},
   "source": [
    "**Code Explaination:**"
   ]
  },
  {
   "cell_type": "markdown",
   "metadata": {},
   "source": [
    "**Q6.** Given an integer array nums, return true if any value appears at least twice in the array, and return false if every element is distinct.\n",
    "\n",
    "**Example 1:**\n",
    "Input: nums = [1,2,3,1]\n",
    "\n",
    "Output: true"
   ]
  },
  {
   "cell_type": "code",
   "execution_count": 6,
   "metadata": {},
   "outputs": [
    {
     "name": "stdout",
     "output_type": "stream",
     "text": [
      "True\n"
     ]
    }
   ],
   "source": [
    "def duplicate_value(nums):\n",
    "    seen = set()\n",
    "    \n",
    "    for num in nums:\n",
    "        if num in seen:\n",
    "            return True\n",
    "        seen.add(num)\n",
    "    return False\n",
    "\n",
    "nums = [1, 2, 3, 1]\n",
    "result = duplicate_value(nums)\n",
    "print(result)"
   ]
  },
  {
   "cell_type": "markdown",
   "metadata": {},
   "source": [
    "**Code Explaination:**"
   ]
  },
  {
   "cell_type": "markdown",
   "metadata": {},
   "source": [
    "**Q7.** Given an integer array nums, move all 0's to the end of it while maintaining the relative order of the nonzero elements.\n",
    "\n",
    "Note that you must do this in-place without making a copy of the array.\n",
    "\n",
    "**Example 1:**\n",
    "Input: nums = [0,1,0,3,12]\n",
    "Output: [1,3,12,0,0]"
   ]
  },
  {
   "cell_type": "code",
   "execution_count": 7,
   "metadata": {},
   "outputs": [
    {
     "name": "stdout",
     "output_type": "stream",
     "text": [
      "[1, 3, 12, 0, 0]\n"
     ]
    }
   ],
   "source": [
    "def move_zero(nums):\n",
    "    a = 0\n",
    "    \n",
    "    for i in range(len(nums)):\n",
    "        if nums[i] != 0:\n",
    "            nums[a], nums[i] = nums[i], nums[a]\n",
    "            a += 1\n",
    "    \n",
    "    nums[a:] = [0] * (len(nums) - a)\n",
    "\n",
    "nums = [0, 1, 0, 3, 12]\n",
    "move_zero(nums)\n",
    "print(nums)"
   ]
  },
  {
   "cell_type": "markdown",
   "metadata": {},
   "source": [
    "**Code Explaination:**"
   ]
  },
  {
   "cell_type": "markdown",
   "metadata": {},
   "source": [
    "**Q8.** You have a set of integers s, which originally contains all the numbers from 1 to n. Unfortunately, due to some error, one of the numbers in s got duplicated to another number in the set, which results in repetition of one number and loss of another number.\n",
    "\n",
    "You are given an integer array nums representing the data status of this set after the error.\n",
    "\n",
    "Find the number that occurs twice and the number that is missing and return them in the form of an array.\n",
    "\n",
    "**Example 1:**\n",
    "Input: nums = [1,2,2,4]\n",
    "Output: [2,3]"
   ]
  },
  {
   "cell_type": "code",
   "execution_count": 8,
   "metadata": {},
   "outputs": [
    {
     "name": "stdout",
     "output_type": "stream",
     "text": [
      "[2, 3]\n"
     ]
    }
   ],
   "source": [
    "def find_error_nums(nums):\n",
    "    n = len(nums)\n",
    "    seen = set()\n",
    "    duplicate = 0\n",
    "    missing = 0\n",
    "    \n",
    "    for num in nums:\n",
    "        if num in seen:\n",
    "            duplicate = num\n",
    "        else:\n",
    "            seen.add(num)\n",
    "        missing += num\n",
    "    \n",
    "    actual_sum = (n * (n + 1)) // 2\n",
    "    missing = actual_sum - (missing - duplicate)\n",
    "    \n",
    "    return [duplicate, missing]\n",
    "\n",
    "nums = [1, 2, 2, 4]\n",
    "result = find_error_nums(nums)\n",
    "print(result)"
   ]
  },
  {
   "cell_type": "markdown",
   "metadata": {},
   "source": [
    "**Code Explaination:**"
   ]
  }
 ],
 "metadata": {
  "kernelspec": {
   "display_name": "Python 3.10.7 64-bit",
   "language": "python",
   "name": "python3"
  },
  "language_info": {
   "codemirror_mode": {
    "name": "ipython",
    "version": 3
   },
   "file_extension": ".py",
   "mimetype": "text/x-python",
   "name": "python",
   "nbconvert_exporter": "python",
   "pygments_lexer": "ipython3",
   "version": "3.10.7"
  },
  "orig_nbformat": 4,
  "vscode": {
   "interpreter": {
    "hash": "3196968d684371006099b3d55edeef8ed90365227a30deaef86e5d4aa8519be0"
   }
  }
 },
 "nbformat": 4,
 "nbformat_minor": 2
}
