{
 "cells": [
  {
   "cell_type": "markdown",
   "metadata": {},
   "source": [
    "<aside>\n",
    "\n",
    "**Question 1**\n",
    "\n",
    "Given an array, for each element find the value of the nearest element to the right which is having a frequency greater than that of the current element. If there does not exist an answer for a position, then make the value ‘-1’.\n",
    "\n",
    "**Examples:**\n",
    "\n",
    "```\n",
    "Input: a[] = [1, 1, 2, 3, 4, 2, 1]\n",
    "Output : [-1, -1, 1, 2, 2, 1, -1]\n",
    "\n",
    "Explanation:\n",
    "Given array a[] = [1, 1, 2, 3, 4, 2, 1]\n",
    "Frequency of each element is: 3, 3, 2, 1, 1, 2, 3\n",
    "\n",
    "Lets calls Next Greater Frequency element as NGF\n",
    "1. For element a[0] = 1 which has a frequency = 3,\n",
    "   As it has frequency of 3 and no other next element\n",
    "   has frequency more than 3 so  '-1'\n",
    "2. For element a[1] = 1 it will be -1 same logic\n",
    "   like a[0]\n",
    "3. For element a[2] = 2 which has frequency = 2,\n",
    "   NGF element is 1 at position = 6  with frequency\n",
    "   of 3 > 2\n",
    "4. For element a[3] = 3 which has frequency = 1,\n",
    "   NGF element is 2 at position = 5 with frequency\n",
    "   of 2 > 1\n",
    "5. For element a[4] = 4 which has frequency = 1,\n",
    "   NGF element is 2 at position = 5 with frequency\n",
    "   of 2 > 1\n",
    "6. For element a[5] = 2 which has frequency = 2,\n",
    "   NGF element is 1 at position = 6 with frequency\n",
    "   of 3 > 2\n",
    "7. For element a[6] = 1 there is no element to its\n",
    "   right, hence -1\n",
    "```\n",
    "\n",
    "```\n",
    "Input : a[] = [1, 1, 1, 2, 2, 2, 2, 11, 3, 3]\n",
    "Output : [2, 2, 2, -1, -1, -1, -1, 3, -1, -1]\n",
    "```\n",
    "\n",
    "</aside>"
   ]
  },
  {
   "cell_type": "code",
   "execution_count": 1,
   "metadata": {},
   "outputs": [],
   "source": [
    "def nearest_greater_frequency(a):\n",
    "     \n",
    "    frequency = {}\n",
    "    for num in a:\n",
    "        frequency[num] = frequency.get(num, 0) + 1\n",
    "\n",
    "    stack = []\n",
    "    result = [-1] * len(a)\n",
    "\n",
    "    for i, num in enumerate(a):\n",
    "        while stack and frequency[a[stack[-1]]] < frequency[num]:\n",
    "            result[stack.pop()] = num\n",
    "        stack.append(i)\n",
    "\n",
    "    return result"
   ]
  },
  {
   "cell_type": "code",
   "execution_count": 2,
   "metadata": {},
   "outputs": [
    {
     "name": "stdout",
     "output_type": "stream",
     "text": [
      "[-1, -1, 1, 2, 2, 1, -1]\n",
      "[2, 2, 2, -1, -1, -1, -1, 3, -1, -1]\n"
     ]
    }
   ],
   "source": [
    "a = [1, 1, 2, 3, 4, 2, 1]\n",
    "print(nearest_greater_frequency(a))\n",
    "\n",
    "\n",
    "a = [1, 1, 1, 2, 2, 2, 2, 11, 3, 3]\n",
    "print(nearest_greater_frequency(a))\n"
   ]
  },
  {
   "cell_type": "markdown",
   "metadata": {},
   "source": [
    "<aside>\n",
    "\n",
    "**Question 2**\n",
    "\n",
    "Given a stack of integers, sort it in ascending order using another temporary stack.\n",
    "\n",
    "**Examples:**\n",
    "\n",
    "```\n",
    "Input : [34, 3, 31, 98, 92, 23]\n",
    "Output : [3, 23, 31, 34, 92, 98]\n",
    "\n",
    "Input : [3, 5, 1, 4, 2, 8]\n",
    "Output : [1, 2, 3, 4, 5, 8]\n",
    "```\n",
    "\n",
    "</aside>"
   ]
  },
  {
   "cell_type": "code",
   "execution_count": 3,
   "metadata": {},
   "outputs": [],
   "source": [
    "def sort_stack(stack):\n",
    "    tempStack = []\n",
    "\n",
    "    while stack:\n",
    "        temp = stack.pop()\n",
    "        while tempStack and tempStack[-1] > temp:\n",
    "            stack.append(tempStack.pop())\n",
    "\n",
    "        tempStack.append(temp)\n",
    "    return tempStack"
   ]
  },
  {
   "cell_type": "code",
   "execution_count": 4,
   "metadata": {},
   "outputs": [
    {
     "name": "stdout",
     "output_type": "stream",
     "text": [
      "[3, 23, 31, 34, 92, 98]\n",
      "[1, 2, 3, 4, 5, 8]\n"
     ]
    }
   ],
   "source": [
    "stack = [34, 3, 31, 98, 92, 23]\n",
    "sortedStack = sort_stack(stack)\n",
    "print(sortedStack)\n",
    "\n",
    "stack = [3, 5, 1, 4, 2, 8]\n",
    "sortedStack = sort_stack(stack)\n",
    "print(sortedStack)"
   ]
  },
  {
   "cell_type": "markdown",
   "metadata": {},
   "source": [
    "<aside>\n",
    "\n",
    "**Question 3**\n",
    "\n",
    "Given a stack with **push()**, **pop()**, and **empty()** operations, The task is to delete the **middle** element ****of it without using any additional data structure.\n",
    "\n",
    "Input  : Stack[] = [1, 2, 3, 4, 5]\n",
    "\n",
    "Output : Stack[] = [1, 2, 4, 5]\n",
    "\n",
    "Input  : Stack[] = [1, 2, 3, 4, 5, 6]\n",
    "\n",
    "Output : Stack[] = [1, 2, 4, 5, 6]\n",
    "\n",
    "</aside>"
   ]
  },
  {
   "cell_type": "code",
   "execution_count": 5,
   "metadata": {},
   "outputs": [],
   "source": [
    "def delete_middle(stack):\n",
    "    if not stack:\n",
    "        return\n",
    "\n",
    "    stack_size = len(stack)\n",
    "    mid_index = stack_size // 2\n",
    "\n",
    "    def delete_helper(stack, curr_index):\n",
    "        if curr_index == mid_index:\n",
    "            stack.pop()\n",
    "            return\n",
    "\n",
    "        temp = stack.pop()\n",
    "        delete_helper(stack, curr_index + 1)\n",
    "        stack.append(temp)\n",
    "\n",
    "    delete_helper(stack, 0)\n",
    "    return stack"
   ]
  },
  {
   "cell_type": "code",
   "execution_count": 6,
   "metadata": {},
   "outputs": [
    {
     "name": "stdout",
     "output_type": "stream",
     "text": [
      "[1, 2, 4, 5]\n",
      "[1, 2, 4, 5, 6]\n"
     ]
    }
   ],
   "source": [
    "stack = [1, 2, 3, 4, 5]\n",
    "result = delete_middle(stack)\n",
    "print(result)\n",
    "\n",
    "stack = [1, 2, 3, 4, 5, 6]\n",
    "result = delete_middle(stack)\n",
    "print(result)\n"
   ]
  },
  {
   "cell_type": "markdown",
   "metadata": {},
   "source": [
    "<aside>\n",
    "\n",
    "\n",
    "**Question 4**\n",
    "\n",
    "Given a Queue consisting of first **n** natural numbers (in random order). The task is to check whether the given Queue elements can be arranged in increasing order in another Queue using a stack. The operation allowed are:\n",
    "\n",
    "1. Push and pop elements from the stack\n",
    "2. Pop (Or Dequeue) from the given Queue.\n",
    "3. Push (Or Enqueue) in the another Queue.\n",
    "\n",
    "**Examples :**\n",
    "\n",
    "Input : Queue[] = { 5, 1, 2, 3, 4 } \n",
    "\n",
    "Output : Yes \n",
    "\n",
    "Pop the first element of the given Queue \n",
    "\n",
    "i.e 5. Push 5 into the stack. \n",
    "\n",
    "Now, pop all the elements of the given Queue and push them to second Queue. \n",
    "\n",
    "Now, pop element 5 in the stack and push it to the second Queue.   \n",
    "\n",
    "Input : Queue[] = { 5, 1, 2, 6, 3, 4 } \n",
    "\n",
    "Output : No \n",
    "\n",
    "Push 5 to stack. \n",
    "\n",
    "Pop 1, 2 from given Queue and push it to another Queue. \n",
    "\n",
    "Pop 6 from given Queue and push to stack. \n",
    "\n",
    "Pop 3, 4 from given Queue and push to second Queue. \n",
    "\n",
    "Now, from using any of above operation, we cannot push 5 into the second Queue because it is below the 6 in the stack.\n",
    "\n",
    "</aside>"
   ]
  },
  {
   "cell_type": "code",
   "execution_count": 7,
   "metadata": {},
   "outputs": [],
   "source": [
    "from queue import Queue\n",
    "\n",
    "def check_increasing_order(queue):\n",
    "    stack = []\n",
    "    secondQueue = Queue()\n",
    "    expected = 1\n",
    "\n",
    "    while not queue.empty():\n",
    "        element = queue.get()\n",
    "\n",
    "        if element == expected:\n",
    "            secondQueue.put(element)\n",
    "            expected += 1\n",
    "        elif element > expected:\n",
    "            stack.append(element)\n",
    "        elif element < expected:\n",
    "            if stack and stack[-1] == expected:\n",
    "                secondQueue.put(stack.pop())\n",
    "                expected += 1\n",
    "\n",
    "    while stack:\n",
    "        if stack[-1] == expected:\n",
    "            secondQueue.put(stack.pop())\n",
    "            expected += 1\n",
    "        else:\n",
    "            break\n",
    "\n",
    "    while not queue.empty():\n",
    "        secondQueue.put(queue.get())\n",
    "\n",
    "    while not secondQueue.empty():\n",
    "        queue.put(secondQueue.get())\n",
    "\n",
    "    return \"Yes\" if expected == queue.qsize() + 1 else \"No\"\n"
   ]
  },
  {
   "cell_type": "code",
   "execution_count": 8,
   "metadata": {},
   "outputs": [
    {
     "name": "stdout",
     "output_type": "stream",
     "text": [
      "Yes\n"
     ]
    }
   ],
   "source": [
    "queue = Queue()\n",
    "queue.put(5)\n",
    "queue.put(1)\n",
    "queue.put(2)\n",
    "queue.put(3)\n",
    "queue.put(4)\n",
    "print(check_increasing_order(queue))"
   ]
  },
  {
   "cell_type": "markdown",
   "metadata": {},
   "source": [
    "<aside>\n",
    " \n",
    "  **Question 5**\n",
    "\n",
    "Given a number , write a program to reverse this number using stack.\n",
    "\n",
    "**Examples:**\n",
    "\n",
    "```\n",
    "Input : 365\n",
    "Output : 563\n",
    "\n",
    "Input : 6899\n",
    "Output : 9986\n",
    "```\n",
    "\n",
    "</aside>"
   ]
  },
  {
   "cell_type": "code",
   "execution_count": 9,
   "metadata": {},
   "outputs": [],
   "source": [
    "def reverse_number(num):\n",
    "    number_str = str(num)\n",
    "    stack = []\n",
    "\n",
    "    for digit in number_str:\n",
    "        stack.append(digit)\n",
    "\n",
    "    reversed_number_str = \"\"\n",
    "    while stack:\n",
    "        reversed_number_str += stack.pop()\n",
    "    reversed_number = int(reversed_number_str)\n",
    "\n",
    "    return reversed_number"
   ]
  },
  {
   "cell_type": "code",
   "execution_count": 10,
   "metadata": {},
   "outputs": [
    {
     "name": "stdout",
     "output_type": "stream",
     "text": [
      "563\n",
      "9986\n"
     ]
    }
   ],
   "source": [
    "num = 365\n",
    "print(reverse_number(num))\n",
    "\n",
    "num = 6899\n",
    "print(reverse_number(num))"
   ]
  },
  {
   "cell_type": "markdown",
   "metadata": {},
   "source": [
    "<aside>\n",
    "\n",
    "**Question 6**\n",
    "\n",
    "Given an integer k and a **[queue](https://www.geeksforgeeks.org/queue-data-structure/)** of integers, The task is to reverse the order of the first **k** elements of the queue, leaving the other elements in the same relative order.\n",
    "\n",
    "Only following standard operations are allowed on queue.\n",
    "\n",
    "- **enqueue(x) :** Add an item x to rear of queue\n",
    "- **dequeue() :** Remove an item from front of queue\n",
    "- **size() :** Returns number of elements in queue.\n",
    "- **front() :** Finds front item.\n",
    "</aside>"
   ]
  },
  {
   "cell_type": "code",
   "execution_count": 11,
   "metadata": {},
   "outputs": [],
   "source": [
    "def reverse_k_element(queue, k):\n",
    "\n",
    "    stack = []\n",
    "    for _ in range(k):\n",
    "        stack.append(queue.dequeue())\n",
    "\n",
    "    while stack:\n",
    "        queue.enqueue(stack.pop())\n",
    "\n",
    "    for i in range(queue.size() - k):\n",
    "        queue.enqueue(queue.dequeue())\n",
    "    return queue"
   ]
  },
  {
   "cell_type": "code",
   "execution_count": 12,
   "metadata": {},
   "outputs": [
    {
     "name": "stdout",
     "output_type": "stream",
     "text": [
      "4 5 3 2 1 "
     ]
    }
   ],
   "source": [
    "class Queue:\n",
    "    def __init__(self):\n",
    "        self.items = []\n",
    "\n",
    "    def enqueue(self, item):\n",
    "        self.items.append(item)\n",
    "\n",
    "    def dequeue(self):\n",
    "        if self.is_empty():\n",
    "            return None\n",
    "        return self.items.pop(0)\n",
    "\n",
    "    def size(self):\n",
    "        return len(self.items)\n",
    "\n",
    "    def is_empty(self):\n",
    "        return len(self.items) == 0\n",
    "\n",
    "queue = Queue()\n",
    "queue.enqueue(5)\n",
    "queue.enqueue(4)\n",
    "queue.enqueue(3)\n",
    "queue.enqueue(2)\n",
    "queue.enqueue(1)\n",
    "\n",
    "k = 2\n",
    "result = reverse_k_element(queue, k)\n",
    "\n",
    "while not result.is_empty():\n",
    "    print(result.dequeue(), end=\" \")"
   ]
  },
  {
   "cell_type": "markdown",
   "metadata": {},
   "source": [
    "<aside>\n",
    "\n",
    " **Question 7**\n",
    "\n",
    "Given a sequence of n strings, the task is to check if any two similar words come together and then destroy each other then print the number of words left in the sequence after this pairwise destruction.\n",
    "\n",
    "**Examples:**\n",
    "\n",
    "Input : ab aa aa bcd ab\n",
    "\n",
    "Output : 3\n",
    "\n",
    "*As aa, aa destroys each other so,*\n",
    "\n",
    "*ab bcd ab is the new sequence.*\n",
    "\n",
    "Input :  tom jerry jerry tom\n",
    "\n",
    "Output : 0\n",
    "\n",
    "*As first both jerry will destroy each other.*\n",
    "\n",
    "*Then sequence will be tom, tom they will also destroy*\n",
    "\n",
    "*each other. So, the final sequence doesn’t contain any*\n",
    "\n",
    "*word.*\n",
    "\n",
    "</aside>"
   ]
  },
  {
   "cell_type": "code",
   "execution_count": 13,
   "metadata": {},
   "outputs": [],
   "source": [
    "def count_remaining_words(sequence):\n",
    "    stack = []\n",
    "\n",
    "    for word in sequence:\n",
    "        if not stack or word != stack[-1]:\n",
    "            stack.append(word)\n",
    "        else:\n",
    "            stack.pop()\n",
    "    return len(stack)"
   ]
  },
  {
   "cell_type": "code",
   "execution_count": 14,
   "metadata": {},
   "outputs": [
    {
     "name": "stdout",
     "output_type": "stream",
     "text": [
      "3\n",
      "0\n"
     ]
    }
   ],
   "source": [
    "sequence = ['ab', 'aa', 'aa', 'bcd', 'ab']\n",
    "result = count_remaining_words(sequence)\n",
    "print(result)\n",
    "\n",
    "sequence = ['tom', 'jerry', 'jerry', 'tom']\n",
    "result = count_remaining_words(sequence)\n",
    "print(result)"
   ]
  },
  {
   "cell_type": "markdown",
   "metadata": {},
   "source": [
    "<aside>\n",
    "\n",
    " **Question 8**\n",
    "\n",
    "Given an array of integers, the task is to find the maximum absolute difference between the nearest left and the right smaller element of every element in the array.\n",
    "\n",
    "**Note:** If there is no smaller element on right side or left side of any element then we take zero as the smaller element. For example for the leftmost element, the nearest smaller element on the left side is considered as 0. Similarly, for rightmost elements, the smaller element on the right side is considered as 0.\n",
    "\n",
    "**Examples:**\n",
    "\n",
    "```\n",
    "Input : arr[] = {2, 1, 8}\n",
    "Output : 1\n",
    "Left smaller  LS[] {0, 0, 1}\n",
    "Right smaller RS[] {1, 0, 0}\n",
    "Maximum Diff of abs(LS[i] - RS[i]) = 1\n",
    "\n",
    "Input  : arr[] = {2, 4, 8, 7, 7, 9, 3}\n",
    "Output : 4\n",
    "Left smaller   LS[] = {0, 2, 4, 4, 4, 7, 2}\n",
    "Right smaller  RS[] = {0, 3, 7, 3, 3, 3, 0}\n",
    "Maximum Diff of abs(LS[i] - RS[i]) = 7 - 3 = 4\n",
    "\n",
    "Input : arr[] = {5, 1, 9, 2, 5, 1, 7}\n",
    "Output : 1\n",
    "```\n",
    "</aside>"
   ]
  },
  {
   "cell_type": "code",
   "execution_count": 15,
   "metadata": {},
   "outputs": [],
   "source": [
    "def max_absolute_difference(arr):\n",
    "    n = len(arr)\n",
    "    LS = [0] * n\n",
    "    RS = [0] * n\n",
    "    stack = []\n",
    "\n",
    "    for i in range(n):\n",
    "        while stack and arr[i] < arr[stack[-1]]:\n",
    "            RS[stack.pop()] = arr[i]\n",
    "        stack.append(i)\n",
    "    stack.clear()\n",
    "\n",
    "    for i in range(n - 1, -1, -1):\n",
    "        while stack and arr[i] < arr[stack[-1]]:\n",
    "            LS[stack.pop()] = arr[i]\n",
    "        stack.append(i)\n",
    "\n",
    "    maxDiff = 0\n",
    "\n",
    "    for i in range(n):\n",
    "        diff = abs(LS[i] - RS[i])\n",
    "        maxDiff = max(maxDiff, diff)\n",
    "    return maxDiff"
   ]
  },
  {
   "cell_type": "code",
   "execution_count": 16,
   "metadata": {},
   "outputs": [
    {
     "name": "stdout",
     "output_type": "stream",
     "text": [
      "1\n"
     ]
    }
   ],
   "source": [
    "arr = [2, 1, 8]\n",
    "output = max_absolute_difference(arr)\n",
    "print(output)"
   ]
  },
  {
   "cell_type": "code",
   "execution_count": 17,
   "metadata": {},
   "outputs": [
    {
     "name": "stdout",
     "output_type": "stream",
     "text": [
      "4\n"
     ]
    }
   ],
   "source": [
    "arr = [2, 4, 8, 7, 7, 9, 3]\n",
    "output = max_absolute_difference(arr)\n",
    "print(output)"
   ]
  },
  {
   "cell_type": "code",
   "execution_count": 18,
   "metadata": {},
   "outputs": [
    {
     "name": "stdout",
     "output_type": "stream",
     "text": [
      "1\n"
     ]
    }
   ],
   "source": [
    "arr = [5,1,9,2,5,1,7]\n",
    "output = max_absolute_difference(arr)\n",
    "print(output)"
   ]
  }
 ],
 "metadata": {
  "kernelspec": {
   "display_name": "Python 3.10.7 64-bit",
   "language": "python",
   "name": "python3"
  },
  "language_info": {
   "codemirror_mode": {
    "name": "ipython",
    "version": 3
   },
   "file_extension": ".py",
   "mimetype": "text/x-python",
   "name": "python",
   "nbconvert_exporter": "python",
   "pygments_lexer": "ipython3",
   "version": "3.10.7"
  },
  "orig_nbformat": 4,
  "vscode": {
   "interpreter": {
    "hash": "3196968d684371006099b3d55edeef8ed90365227a30deaef86e5d4aa8519be0"
   }
  }
 },
 "nbformat": 4,
 "nbformat_minor": 2
}
